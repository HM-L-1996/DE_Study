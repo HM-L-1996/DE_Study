{
 "cells": [
  {
   "cell_type": "code",
   "execution_count": 1,
   "id": "080fee9c",
   "metadata": {},
   "outputs": [
    {
     "name": "stderr",
     "output_type": "stream",
     "text": [
      "22/05/23 17:13:42 WARN Utils: Your hostname, ihyeonmin-ui-MacBookPro.local resolves to a loopback address: 127.0.0.1; using 172.30.1.11 instead (on interface en0)\n",
      "22/05/23 17:13:42 WARN Utils: Set SPARK_LOCAL_IP if you need to bind to another address\n",
      "Using Spark's default log4j profile: org/apache/spark/log4j-defaults.properties\n",
      "Setting default log level to \"WARN\".\n",
      "To adjust logging level use sc.setLogLevel(newLevel). For SparkR, use setLogLevel(newLevel).\n",
      "22/05/23 17:13:43 WARN NativeCodeLoader: Unable to load native-hadoop library for your platform... using builtin-java classes where applicable\n"
     ]
    }
   ],
   "source": [
    "from pyspark.sql import SparkSession\n",
    "\n",
    "MAX_MEMORY=\"5g\"\n",
    "spark = SparkSession.builder.appName(\"sparkml_text_fare_prediction\")\\\n",
    "                .config(\"spark.executor.memory\",MAX_MEMORY)\\\n",
    "                .config(\"spark.driver.memory\",MAX_MEMORY)\\\n",
    "                .getOrCreate()"
   ]
  },
  {
   "cell_type": "code",
   "execution_count": 2,
   "id": "814e4672",
   "metadata": {},
   "outputs": [],
   "source": [
    "trip_files = \"/Users/ihyeonmin/Desktop/study/data-engineering/01-spark/data/trips/*\""
   ]
  },
  {
   "cell_type": "code",
   "execution_count": 3,
   "id": "5a9ae40e",
   "metadata": {},
   "outputs": [
    {
     "name": "stderr",
     "output_type": "stream",
     "text": [
      "                                                                                \r"
     ]
    }
   ],
   "source": [
    "trips_df = spark.read.parquet(f\"file:///{trip_files}\",inferSchema=True,header=True)"
   ]
  },
  {
   "cell_type": "code",
   "execution_count": 4,
   "id": "d039657e",
   "metadata": {},
   "outputs": [
    {
     "name": "stdout",
     "output_type": "stream",
     "text": [
      "root\n",
      " |-- VendorID: long (nullable = true)\n",
      " |-- tpep_pickup_datetime: timestamp (nullable = true)\n",
      " |-- tpep_dropoff_datetime: timestamp (nullable = true)\n",
      " |-- passenger_count: double (nullable = true)\n",
      " |-- trip_distance: double (nullable = true)\n",
      " |-- RatecodeID: double (nullable = true)\n",
      " |-- store_and_fwd_flag: string (nullable = true)\n",
      " |-- PULocationID: long (nullable = true)\n",
      " |-- DOLocationID: long (nullable = true)\n",
      " |-- payment_type: long (nullable = true)\n",
      " |-- fare_amount: double (nullable = true)\n",
      " |-- extra: double (nullable = true)\n",
      " |-- mta_tax: double (nullable = true)\n",
      " |-- tip_amount: double (nullable = true)\n",
      " |-- tolls_amount: double (nullable = true)\n",
      " |-- improvement_surcharge: double (nullable = true)\n",
      " |-- total_amount: double (nullable = true)\n",
      " |-- congestion_surcharge: double (nullable = true)\n",
      " |-- airport_fee: double (nullable = true)\n",
      "\n"
     ]
    }
   ],
   "source": [
    "trips_df.printSchema()"
   ]
  },
  {
   "cell_type": "code",
   "execution_count": 5,
   "id": "0448f22e",
   "metadata": {},
   "outputs": [],
   "source": [
    "trips_df.createOrReplaceTempView(\"trips\")"
   ]
  },
  {
   "cell_type": "code",
   "execution_count": 6,
   "id": "1ae077e3",
   "metadata": {},
   "outputs": [],
   "source": [
    "query=\"\"\"\n",
    "SELECT\n",
    "    passenger_count,\n",
    "    PULocationID as pickup_location_id,\n",
    "    DOLocationID as dropoff_location_id,\n",
    "    trip_distance,\n",
    "    HOUR(tpep_pickup_datetime) as pickup_time,\n",
    "    DATE_FORMAT(TO_DATE(tpep_pickup_datetime),'EEEE') as day_of_week,\n",
    "    total_amount\n",
    "FROM\n",
    "    trips\n",
    "WHERE\n",
    "    total_amount<5000\n",
    "    AND total_amount > 0\n",
    "    AND trip_distance > 0\n",
    "    AND trip_distance < 500\n",
    "    AND passenger_count < 4\n",
    "    AND TO_DATE(tpep_pickup_datetime) >= '2021-01-01'\n",
    "    AND TO_DATE(tpep_pickup_datetime) < '2021-08-01'\n",
    "\"\"\"\n",
    "\n",
    "data_df = spark.sql(query)\n",
    "data_df.createOrReplaceTempView(\"data\")"
   ]
  },
  {
   "cell_type": "code",
   "execution_count": 7,
   "id": "59ce67a8",
   "metadata": {},
   "outputs": [
    {
     "name": "stderr",
     "output_type": "stream",
     "text": [
      "                                                                                \r"
     ]
    },
    {
     "name": "stdout",
     "output_type": "stream",
     "text": [
      "+---------------+------------------+-------------------+-------------+-----------+-----------+------------+\n",
      "|passenger_count|pickup_location_id|dropoff_location_id|trip_distance|pickup_time|day_of_week|total_amount|\n",
      "+---------------+------------------+-------------------+-------------+-----------+-----------+------------+\n",
      "|            1.0|                79|                116|          8.4|          9|   Thursday|       35.15|\n",
      "|            1.0|                75|                236|          0.9|          9|   Thursday|         8.8|\n",
      "|            1.0|               236|                168|          3.4|          9|   Thursday|        15.3|\n",
      "|            1.0|               238|                152|         1.96|          9|   Thursday|       13.39|\n",
      "|            1.0|               142|                238|         0.77|          9|   Thursday|        9.54|\n",
      "|            1.0|               238|                244|         3.65|          9|   Thursday|       15.36|\n",
      "|            0.0|               138|                239|          8.9|          9|   Thursday|       43.67|\n",
      "|            1.0|               151|                244|         2.98|          9|   Thursday|        13.3|\n",
      "|            1.0|               132|                196|          8.9|          9|   Thursday|        29.3|\n",
      "|            1.0|               140|                 36|         7.48|          9|   Thursday|        31.3|\n",
      "|            3.0|               132|                160|        12.14|          9|   Thursday|       45.24|\n",
      "|            1.0|               132|                196|         11.8|          9|   Thursday|        33.3|\n",
      "|            1.0|               152|                244|         1.44|          9|   Thursday|         8.8|\n",
      "|            1.0|               161|                143|         1.65|          9|   Thursday|       15.38|\n",
      "|            2.0|               107|                106|         8.16|          9|   Thursday|       34.56|\n",
      "|            1.0|               138|                 41|          7.4|          9|   Thursday|       34.92|\n",
      "|            1.0|               138|                 61|        13.65|          9|   Thursday|        44.8|\n",
      "|            1.0|                61|                 39|         3.14|          9|   Thursday|       16.56|\n",
      "|            1.0|               132|                179|         15.5|          9|   Thursday|       48.18|\n",
      "|            1.0|               132|                 13|         20.1|          9|   Thursday|       66.35|\n",
      "+---------------+------------------+-------------------+-------------+-----------+-----------+------------+\n",
      "only showing top 20 rows\n",
      "\n"
     ]
    }
   ],
   "source": [
    "data_df.show()"
   ]
  },
  {
   "cell_type": "code",
   "execution_count": 8,
   "id": "d2e32303",
   "metadata": {},
   "outputs": [
    {
     "name": "stdout",
     "output_type": "stream",
     "text": [
      "root\n",
      " |-- passenger_count: double (nullable = true)\n",
      " |-- pickup_location_id: long (nullable = true)\n",
      " |-- dropoff_location_id: long (nullable = true)\n",
      " |-- trip_distance: double (nullable = true)\n",
      " |-- pickup_time: integer (nullable = true)\n",
      " |-- day_of_week: string (nullable = true)\n",
      " |-- total_amount: double (nullable = true)\n",
      "\n"
     ]
    }
   ],
   "source": [
    "data_df.printSchema()"
   ]
  },
  {
   "cell_type": "code",
   "execution_count": 9,
   "id": "d3667431",
   "metadata": {},
   "outputs": [],
   "source": [
    "train_df,test_df=data_df.randomSplit([0.8,0.2],seed=1)"
   ]
  },
  {
   "cell_type": "code",
   "execution_count": 10,
   "id": "4fd00593",
   "metadata": {},
   "outputs": [],
   "source": [
    "data_dir = \"/Users/ihyeonmin/Desktop/study/data-engineering/01-spark/data/trips/\""
   ]
  },
  {
   "cell_type": "code",
   "execution_count": 13,
   "id": "8377b324",
   "metadata": {},
   "outputs": [
    {
     "name": "stderr",
     "output_type": "stream",
     "text": [
      "                                                                                \r"
     ]
    }
   ],
   "source": [
    "train_df.write.format(\"parquet\").save(f\"{data_dir}/train/\")\n",
    "test_df.write.format(\"parquet\").save(f\"{data_dir}/test/\")\n"
   ]
  },
  {
   "cell_type": "code",
   "execution_count": 14,
   "id": "33d3ef4c",
   "metadata": {},
   "outputs": [],
   "source": [
    "train_df = spark.read.parquet(f\"{data_dir}/train/\")\n",
    "test_df = spark.read.parquet(f\"{data_dir}/test/\")"
   ]
  },
  {
   "cell_type": "code",
   "execution_count": 15,
   "id": "0d408b0d",
   "metadata": {},
   "outputs": [
    {
     "name": "stdout",
     "output_type": "stream",
     "text": [
      "root\n",
      " |-- passenger_count: double (nullable = true)\n",
      " |-- pickup_location_id: long (nullable = true)\n",
      " |-- dropoff_location_id: long (nullable = true)\n",
      " |-- trip_distance: double (nullable = true)\n",
      " |-- pickup_time: integer (nullable = true)\n",
      " |-- day_of_week: string (nullable = true)\n",
      " |-- total_amount: double (nullable = true)\n",
      "\n"
     ]
    }
   ],
   "source": [
    "train_df.printSchema()"
   ]
  },
  {
   "cell_type": "code",
   "execution_count": 16,
   "id": "b85ace6a",
   "metadata": {},
   "outputs": [],
   "source": [
    "# one hot encoding\n",
    "# ex) Wednesday -> 4 -> [0,0,0,1,0,0,0]"
   ]
  },
  {
   "cell_type": "code",
   "execution_count": 41,
   "id": "5b27c784",
   "metadata": {},
   "outputs": [
    {
     "name": "stdout",
     "output_type": "stream",
     "text": [
      "[StringIndexer_67bb4c82fd36, OneHotEncoder_a20914cce73a, StringIndexer_73ea154ec26d, OneHotEncoder_b05896f16c04, StringIndexer_bdd88e07fa33, OneHotEncoder_0f9325a30f2f]\n"
     ]
    }
   ],
   "source": [
    "from pyspark.ml.feature import OneHotEncoder,StringIndexer\n",
    "\n",
    "cat_feats = [\n",
    "    \"pickup_location_id\",\n",
    "    \"dropoff_location_id\",\n",
    "    \"day_of_week\"\n",
    "    ]\n",
    "stages=[]\n",
    "\n",
    "for c in cat_feats:\n",
    "    cat_indexer = StringIndexer(inputCol=c,outputCol=c+\"_idx\").setHandleInvalid(\"keep\")\n",
    "    onehot_encoder = OneHotEncoder(inputCols=[cat_indexer.getOutputCol()],outputCols=[c+\"_onehot\"])\n",
    "    stages += [cat_indexer,onehot_encoder]\n",
    "print(stages)"
   ]
  },
  {
   "cell_type": "code",
   "execution_count": 42,
   "id": "1e151f8b",
   "metadata": {},
   "outputs": [],
   "source": [
    "from pyspark.ml.feature import VectorAssembler,StandardScaler\n",
    "\n",
    "num_feats = [\n",
    "    \"passenger_count\",\n",
    "    \"trip_distance\",\n",
    "    \"total_amount\"\n",
    "]\n",
    "\n",
    "for n in num_feats:\n",
    "    num_assembler = VectorAssembler(inputCols=[n],outputCol=n+\"_vector\")\n",
    "    num_scaler = StandardScaler(inputCol=num_assembler.getOutputCol(),outputCol=n+\"_scaled\")\n",
    "    stages+=[num_assembler,num_scaler]"
   ]
  },
  {
   "cell_type": "code",
   "execution_count": 43,
   "id": "8ca16712",
   "metadata": {},
   "outputs": [],
   "source": [
    "assembler_inputs = [c + \"_onehot\" for c in cat_feats] + [n+\"_scaled\" for n in num_feats]\n",
    "assembler = VectorAssembler(inputCols=assembler_inputs,outputCol=\"feature_vector\")\n",
    "stages += [assembler]"
   ]
  },
  {
   "cell_type": "code",
   "execution_count": 44,
   "id": "7c82690b",
   "metadata": {},
   "outputs": [
    {
     "name": "stderr",
     "output_type": "stream",
     "text": [
      "                                                                                \r"
     ]
    }
   ],
   "source": [
    "from pyspark.ml import Pipeline\n",
    "\n",
    "transform_stages=stages\n",
    "pipeline = Pipeline(stages=transform_stages)\n",
    "fitted_transformer = pipeline.fit(train_df)"
   ]
  },
  {
   "cell_type": "code",
   "execution_count": 45,
   "id": "c8d91cd0",
   "metadata": {},
   "outputs": [],
   "source": [
    "vtrain_df = fitted_transformer.transform(train_df)"
   ]
  },
  {
   "cell_type": "code",
   "execution_count": 46,
   "id": "0aae9844",
   "metadata": {},
   "outputs": [],
   "source": [
    "from pyspark.ml.regression import LinearRegression\n",
    "\n",
    "lr = LinearRegression(\n",
    "    maxIter=5,\n",
    "    solver=\"normal\",\n",
    "    labelCol=\"total_amount\",\n",
    "    featuresCol=\"feature_vector\"\n",
    ")"
   ]
  },
  {
   "cell_type": "code",
   "execution_count": 47,
   "id": "0b295d3a",
   "metadata": {},
   "outputs": [
    {
     "name": "stdout",
     "output_type": "stream",
     "text": [
      "root\n",
      " |-- passenger_count: double (nullable = true)\n",
      " |-- pickup_location_id: long (nullable = true)\n",
      " |-- dropoff_location_id: long (nullable = true)\n",
      " |-- trip_distance: double (nullable = true)\n",
      " |-- pickup_time: integer (nullable = true)\n",
      " |-- day_of_week: string (nullable = true)\n",
      " |-- total_amount: double (nullable = true)\n",
      " |-- pickup_location_id_idx: double (nullable = false)\n",
      " |-- pickup_location_id_onehot: vector (nullable = true)\n",
      " |-- dropoff_location_id_idx: double (nullable = false)\n",
      " |-- dropoff_location_id_onehot: vector (nullable = true)\n",
      " |-- day_of_week_idx: double (nullable = false)\n",
      " |-- day_of_week_onehot: vector (nullable = true)\n",
      " |-- passenger_count_vector: vector (nullable = true)\n",
      " |-- passenger_count_scaled: vector (nullable = true)\n",
      " |-- trip_distance_vector: vector (nullable = true)\n",
      " |-- trip_distance_scaled: vector (nullable = true)\n",
      " |-- total_amount_vector: vector (nullable = true)\n",
      " |-- total_amount_scaled: vector (nullable = true)\n",
      " |-- feature_vector: vector (nullable = true)\n",
      "\n"
     ]
    }
   ],
   "source": [
    "vtrain_df.printSchema()"
   ]
  },
  {
   "cell_type": "code",
   "execution_count": 48,
   "id": "b6adfc23",
   "metadata": {},
   "outputs": [
    {
     "name": "stderr",
     "output_type": "stream",
     "text": [
      "22/05/23 17:50:59 WARN Instrumentation: [545fb715] regParam is zero, which might cause numerical instability and overfitting.\n",
      "22/05/23 17:51:12 WARN InstanceBuilder$NativeBLAS: Failed to load implementation from:dev.ludovic.netlib.blas.JNIBLAS\n",
      "22/05/23 17:51:12 WARN InstanceBuilder$NativeBLAS: Failed to load implementation from:dev.ludovic.netlib.blas.ForeignLinkerBLAS\n",
      "22/05/23 17:51:19 WARN InstanceBuilder$NativeLAPACK: Failed to load implementation from:dev.ludovic.netlib.lapack.JNILAPACK\n",
      "22/05/23 17:51:19 WARN Instrumentation: [545fb715] Cholesky solver failed due to singular covariance matrix. Retrying with Quasi-Newton solver.\n",
      "22/05/23 17:51:19 WARN BLAS: Failed to load implementation from: com.github.fommil.netlib.NativeSystemBLAS\n",
      "22/05/23 17:51:19 WARN BLAS: Failed to load implementation from: com.github.fommil.netlib.NativeRefBLAS\n",
      "                                                                                \r"
     ]
    }
   ],
   "source": [
    "model = lr.fit(vtrain_df)"
   ]
  },
  {
   "cell_type": "code",
   "execution_count": 50,
   "id": "c711bca3",
   "metadata": {},
   "outputs": [],
   "source": [
    "vtest_df = fitted_transformer.transform(test_df)"
   ]
  },
  {
   "cell_type": "code",
   "execution_count": 53,
   "id": "da980117",
   "metadata": {},
   "outputs": [],
   "source": [
    "predictions=model.transform(vtest_df)"
   ]
  },
  {
   "cell_type": "code",
   "execution_count": 54,
   "id": "9af38c9c",
   "metadata": {},
   "outputs": [
    {
     "data": {
      "text/plain": [
       "DataFrame[passenger_count: double, pickup_location_id: bigint, dropoff_location_id: bigint, trip_distance: double, pickup_time: int, day_of_week: string, total_amount: double, pickup_location_id_idx: double, pickup_location_id_onehot: vector, dropoff_location_id_idx: double, dropoff_location_id_onehot: vector, day_of_week_idx: double, day_of_week_onehot: vector, passenger_count_vector: vector, passenger_count_scaled: vector, trip_distance_vector: vector, trip_distance_scaled: vector, total_amount_vector: vector, total_amount_scaled: vector, feature_vector: vector, prediction: double]"
      ]
     },
     "execution_count": 54,
     "metadata": {},
     "output_type": "execute_result"
    }
   ],
   "source": [
    "predictions.cache()"
   ]
  },
  {
   "cell_type": "code",
   "execution_count": 56,
   "id": "719229f9",
   "metadata": {},
   "outputs": [
    {
     "name": "stdout",
     "output_type": "stream",
     "text": [
      "+-------------+-----------+------------+------------------+\n",
      "|trip_distance|day_of_week|total_amount|        prediction|\n",
      "+-------------+-----------+------------+------------------+\n",
      "|         13.9|   Saturday|         4.3|29.726438662882963|\n",
      "|          3.3|     Sunday|         5.8| 8.146875403484225|\n",
      "|          5.5|     Sunday|       26.75|26.898970528166526|\n",
      "|          7.9|   Saturday|        30.3|31.777490808363186|\n",
      "|          0.4|  Wednesday|         7.8| 8.004213711438736|\n",
      "|          1.0|   Saturday|        11.8|11.705071313777228|\n",
      "|          1.3|   Saturday|       12.85|12.785841915273393|\n",
      "|          9.4|   Saturday|        39.8| 40.14312612707506|\n",
      "|          1.5|  Wednesday|        13.3|13.287095594306242|\n",
      "|          4.7|     Sunday|       26.15|26.102917853535473|\n",
      "|          0.6|   Saturday|       11.75|11.327761593278833|\n",
      "|          1.1|    Tuesday|        11.8|11.722369584818194|\n",
      "|          3.7|     Friday|       24.35|24.127020715583363|\n",
      "|          2.4|   Saturday|       14.75|15.252795048097356|\n",
      "|          2.5|   Saturday|        15.8| 16.18309501552739|\n",
      "|          6.5|   Saturday|       32.75| 31.54408211442252|\n",
      "|          4.0|   Thursday|        20.8|21.382598138913917|\n",
      "|          1.1|     Friday|       14.15|13.854101458291108|\n",
      "|          2.4|    Tuesday|       18.35|18.139069216578957|\n",
      "|          3.6|     Friday|       21.35|21.721617195818656|\n",
      "+-------------+-----------+------------+------------------+\n",
      "only showing top 20 rows\n",
      "\n"
     ]
    }
   ],
   "source": [
    "predictions.select([\"trip_distance\",\"day_of_week\",\"total_amount\",\"prediction\"]).show()"
   ]
  },
  {
   "cell_type": "code",
   "execution_count": 57,
   "id": "8e4fb73a",
   "metadata": {},
   "outputs": [
    {
     "data": {
      "text/plain": [
       "1.3337457020031904"
      ]
     },
     "execution_count": 57,
     "metadata": {},
     "output_type": "execute_result"
    }
   ],
   "source": [
    "model.summary.rootMeanSquaredError"
   ]
  },
  {
   "cell_type": "code",
   "execution_count": 58,
   "id": "5f38e549",
   "metadata": {},
   "outputs": [
    {
     "data": {
      "text/plain": [
       "0.9892934761685851"
      ]
     },
     "execution_count": 58,
     "metadata": {},
     "output_type": "execute_result"
    }
   ],
   "source": [
    "model.summary.r2"
   ]
  },
  {
   "cell_type": "code",
   "execution_count": 59,
   "id": "4acdf760",
   "metadata": {},
   "outputs": [],
   "source": [
    "spark.stop()"
   ]
  },
  {
   "cell_type": "code",
   "execution_count": null,
   "id": "2c148e3f",
   "metadata": {},
   "outputs": [],
   "source": []
  }
 ],
 "metadata": {
  "kernelspec": {
   "display_name": "Python 3 (ipykernel)",
   "language": "python",
   "name": "python3"
  },
  "language_info": {
   "codemirror_mode": {
    "name": "ipython",
    "version": 3
   },
   "file_extension": ".py",
   "mimetype": "text/x-python",
   "name": "python",
   "nbconvert_exporter": "python",
   "pygments_lexer": "ipython3",
   "version": "3.9.12"
  }
 },
 "nbformat": 4,
 "nbformat_minor": 5
}
