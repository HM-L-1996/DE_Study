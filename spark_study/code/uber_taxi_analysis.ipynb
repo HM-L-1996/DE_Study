{
 "cells": [
  {
   "cell_type": "code",
   "execution_count": 1,
   "id": "9293ec86",
   "metadata": {},
   "outputs": [],
   "source": [
    "from pyspark.sql import SparkSession"
   ]
  },
  {
   "cell_type": "code",
   "execution_count": 2,
   "id": "1a183ec0",
   "metadata": {},
   "outputs": [
    {
     "name": "stderr",
     "output_type": "stream",
     "text": [
      "22/05/23 13:43:18 WARN Utils: Your hostname, ihyeonmin-ui-MacBookPro.local resolves to a loopback address: 127.0.0.1; using 172.30.1.11 instead (on interface en0)\n",
      "22/05/23 13:43:18 WARN Utils: Set SPARK_LOCAL_IP if you need to bind to another address\n",
      "Using Spark's default log4j profile: org/apache/spark/log4j-defaults.properties\n",
      "Setting default log level to \"WARN\".\n",
      "To adjust logging level use sc.setLogLevel(newLevel). For SparkR, use setLogLevel(newLevel).\n",
      "22/05/23 13:43:19 WARN NativeCodeLoader: Unable to load native-hadoop library for your platform... using builtin-java classes where applicable\n",
      "22/05/23 13:43:20 WARN Utils: Service 'SparkUI' could not bind on port 4040. Attempting port 4041.\n",
      "22/05/23 13:43:20 WARN Utils: Service 'SparkUI' could not bind on port 4041. Attempting port 4042.\n",
      "22/05/23 13:43:20 WARN Utils: Service 'SparkUI' could not bind on port 4042. Attempting port 4043.\n"
     ]
    }
   ],
   "source": [
    "spark = SparkSession.builder.appName(\"taxi-analysis\").getOrCreate()"
   ]
  },
  {
   "cell_type": "code",
   "execution_count": 5,
   "id": "61969d73",
   "metadata": {},
   "outputs": [],
   "source": [
    "trip_files = \"/Users/ihyeonmin/Desktop/study/data-engineering/01-spark/data/trips/*\"\n",
    "zone_file = \"/Users/ihyeonmin/Desktop/study/data-engineering/01-spark/data/taxi+_zone_lookup.csv\""
   ]
  },
  {
   "cell_type": "code",
   "execution_count": 10,
   "id": "7ea781f3",
   "metadata": {},
   "outputs": [],
   "source": [
    "trips_df = spark.read.parquet(f\"file:///{trip_files}\",inferSchema=True,header=True)\n",
    "zone_df = spark.read.csv(f\"file:///{zone_file}\",inferSchema=True,header=True)"
   ]
  },
  {
   "cell_type": "code",
   "execution_count": 11,
   "id": "49f26987",
   "metadata": {},
   "outputs": [
    {
     "name": "stdout",
     "output_type": "stream",
     "text": [
      "root\n",
      " |-- VendorID: long (nullable = true)\n",
      " |-- tpep_pickup_datetime: timestamp (nullable = true)\n",
      " |-- tpep_dropoff_datetime: timestamp (nullable = true)\n",
      " |-- passenger_count: double (nullable = true)\n",
      " |-- trip_distance: double (nullable = true)\n",
      " |-- RatecodeID: double (nullable = true)\n",
      " |-- store_and_fwd_flag: string (nullable = true)\n",
      " |-- PULocationID: long (nullable = true)\n",
      " |-- DOLocationID: long (nullable = true)\n",
      " |-- payment_type: long (nullable = true)\n",
      " |-- fare_amount: double (nullable = true)\n",
      " |-- extra: double (nullable = true)\n",
      " |-- mta_tax: double (nullable = true)\n",
      " |-- tip_amount: double (nullable = true)\n",
      " |-- tolls_amount: double (nullable = true)\n",
      " |-- improvement_surcharge: double (nullable = true)\n",
      " |-- total_amount: double (nullable = true)\n",
      " |-- congestion_surcharge: double (nullable = true)\n",
      " |-- airport_fee: double (nullable = true)\n",
      "\n",
      "root\n",
      " |-- LocationID: integer (nullable = true)\n",
      " |-- Borough: string (nullable = true)\n",
      " |-- Zone: string (nullable = true)\n",
      " |-- service_zone: string (nullable = true)\n",
      "\n"
     ]
    }
   ],
   "source": [
    "trips_df.printSchema()\n",
    "zone_df.printSchema()"
   ]
  },
  {
   "cell_type": "code",
   "execution_count": 12,
   "id": "d8121087",
   "metadata": {},
   "outputs": [],
   "source": [
    "trips_df.createOrReplaceTempView(\"trips\")\n",
    "zone_df.createOrReplaceTempView(\"zone\")"
   ]
  },
  {
   "cell_type": "code",
   "execution_count": 39,
   "id": "7e033ae9",
   "metadata": {
    "scrolled": true
   },
   "outputs": [],
   "source": [
    "query=\"\"\"\n",
    "SELECT\n",
    "    t.VendorID as vendor_id,\n",
    "    TO_DATE(t.tpep_pickup_datetime) as pickup_date,\n",
    "    TO_DATE(t.tpep_dropoff_datetime) as dropoff_date,\n",
    "    HOUR(t.tpep_pickup_datetime) as pickup_time,\n",
    "    HOUR(t.tpep_dropoff_datetime) as dropoff_time,\n",
    "    t.passenger_count,\n",
    "    t.trip_distance,\n",
    "    t.fare_amount,\n",
    "    t.tip_amount,\n",
    "    t.tolls_amount,\n",
    "    t.total_amount,\n",
    "    t.payment_type,\n",
    "    pz.Zone as pickup_zone,\n",
    "    dz.Zone as dropoff_zone\n",
    "FROM\n",
    "    trips t\n",
    "    LEFT JOIN\n",
    "        zone pz\n",
    "    ON\n",
    "        t.PULocationID = pz.LocationID\n",
    "    LEFT JOIN\n",
    "        zone dz\n",
    "    ON\n",
    "        t.DOLocationID = dz.LocationID\n",
    "\"\"\"\n",
    "comb_df = spark.sql(query)\n",
    "comb_df.createOrReplaceTempView(\"comb\")"
   ]
  },
  {
   "cell_type": "code",
   "execution_count": 40,
   "id": "864aec72",
   "metadata": {},
   "outputs": [
    {
     "name": "stdout",
     "output_type": "stream",
     "text": [
      "root\n",
      " |-- vendor_id: long (nullable = true)\n",
      " |-- pickup_date: date (nullable = true)\n",
      " |-- dropoff_date: date (nullable = true)\n",
      " |-- pickup_time: integer (nullable = true)\n",
      " |-- dropoff_time: integer (nullable = true)\n",
      " |-- passenger_count: double (nullable = true)\n",
      " |-- trip_distance: double (nullable = true)\n",
      " |-- fare_amount: double (nullable = true)\n",
      " |-- tip_amount: double (nullable = true)\n",
      " |-- tolls_amount: double (nullable = true)\n",
      " |-- total_amount: double (nullable = true)\n",
      " |-- payment_type: long (nullable = true)\n",
      " |-- pickup_zone: string (nullable = true)\n",
      " |-- dropoff_zone: string (nullable = true)\n",
      "\n"
     ]
    }
   ],
   "source": [
    "comb_df.printSchema()"
   ]
  },
  {
   "cell_type": "code",
   "execution_count": 41,
   "id": "5c33d161",
   "metadata": {},
   "outputs": [
    {
     "name": "stderr",
     "output_type": "stream",
     "text": [
      "                                                                                \r"
     ]
    },
    {
     "name": "stdout",
     "output_type": "stream",
     "text": [
      "+-----------+-----------+\n",
      "|pickup_date|pickup_time|\n",
      "+-----------+-----------+\n",
      "| 2003-01-01|          8|\n",
      "| 2003-01-05|         16|\n",
      "| 2004-04-04|         13|\n",
      "| 2009-01-01|         13|\n",
      "| 2009-01-01|          9|\n",
      "| 2009-01-01|          8|\n",
      "| 2009-01-01|          8|\n",
      "| 2009-01-01|          9|\n",
      "| 2009-01-01|          9|\n",
      "| 2009-01-01|          9|\n",
      "| 2009-01-01|          8|\n",
      "| 2009-01-01|          8|\n",
      "| 2009-01-01|          9|\n",
      "| 2009-01-01|         10|\n",
      "| 2009-01-01|         11|\n",
      "| 2009-01-01|         11|\n",
      "| 2009-01-01|          9|\n",
      "| 2009-01-01|          8|\n",
      "| 2009-01-01|         12|\n",
      "| 2009-01-01|         10|\n",
      "+-----------+-----------+\n",
      "only showing top 20 rows\n",
      "\n"
     ]
    }
   ],
   "source": [
    "spark.sql(\"SELECT pickup_date, pickup_time from comb where pickup_time > 0 ORDER BY pickup_date\").show()"
   ]
  },
  {
   "cell_type": "code",
   "execution_count": 42,
   "id": "8ee306d7",
   "metadata": {},
   "outputs": [
    {
     "name": "stdout",
     "output_type": "stream",
     "text": [
      "+-----------+-----------+\n",
      "|pickup_date|pickup_time|\n",
      "+-----------+-----------+\n",
      "| 2009-01-01|         12|\n",
      "| 2009-01-02|          1|\n",
      "| 2009-01-01|         20|\n",
      "| 2009-01-01|         21|\n",
      "| 2009-01-01|         21|\n",
      "| 2009-01-01|          8|\n",
      "| 2009-01-01|          8|\n",
      "| 2009-01-01|          9|\n",
      "| 2009-01-01|          9|\n",
      "| 2009-01-01|          9|\n",
      "| 2009-01-01|         10|\n",
      "| 2009-01-01|          9|\n",
      "| 2009-01-01|          9|\n",
      "| 2009-01-02|          1|\n",
      "| 2009-01-02|          1|\n",
      "| 2009-01-01|          9|\n",
      "| 2009-01-01|          9|\n",
      "| 2009-01-01|          9|\n",
      "| 2009-01-02|          4|\n",
      "| 2009-01-02|          4|\n",
      "+-----------+-----------+\n",
      "only showing top 20 rows\n",
      "\n"
     ]
    },
    {
     "name": "stderr",
     "output_type": "stream",
     "text": [
      "\r",
      "[Stage 57:=============================>                            (2 + 2) / 4]\r",
      "\r",
      "                                                                                \r"
     ]
    }
   ],
   "source": [
    "spark.sql(\"SELECT pickup_date, pickup_time from comb where pickup_date < '2020-12-31'\").show()"
   ]
  },
  {
   "cell_type": "code",
   "execution_count": 43,
   "id": "02f88fe8",
   "metadata": {},
   "outputs": [
    {
     "name": "stderr",
     "output_type": "stream",
     "text": [
      "\r",
      "[Stage 59:=========================>                                (4 + 5) / 9]\r"
     ]
    },
    {
     "name": "stdout",
     "output_type": "stream",
     "text": [
      "+-------+------------------+\n",
      "|summary|      total_amount|\n",
      "+-------+------------------+\n",
      "|  count|          15000936|\n",
      "|   mean| 18.75540051097825|\n",
      "| stddev|145.74310219085984|\n",
      "|    min|            -647.8|\n",
      "|    max|          398469.2|\n",
      "+-------+------------------+\n",
      "\n"
     ]
    },
    {
     "name": "stderr",
     "output_type": "stream",
     "text": [
      "\r",
      "                                                                                \r"
     ]
    }
   ],
   "source": [
    "comb_df.select(\"total_amount\").describe().show()"
   ]
  },
  {
   "cell_type": "code",
   "execution_count": 44,
   "id": "306c3cc2",
   "metadata": {
    "scrolled": true
   },
   "outputs": [
    {
     "name": "stdout",
     "output_type": "stream",
     "text": [
      "+-------+-----------------+\n",
      "|summary|    trip_distance|\n",
      "+-------+-----------------+\n",
      "|  count|         15000936|\n",
      "|   mean|6.628556730059906|\n",
      "| stddev|671.7240645480989|\n",
      "|    min|              0.0|\n",
      "|    max|        332541.19|\n",
      "+-------+-----------------+\n",
      "\n"
     ]
    }
   ],
   "source": [
    "comb_df.select(\"trip_distance\").describe().show()"
   ]
  },
  {
   "cell_type": "code",
   "execution_count": 45,
   "id": "43e1d534",
   "metadata": {
    "scrolled": true
   },
   "outputs": [
    {
     "name": "stderr",
     "output_type": "stream",
     "text": [
      "[Stage 67:===================================================>      (8 + 1) / 9]\r"
     ]
    },
    {
     "name": "stdout",
     "output_type": "stream",
     "text": [
      "+-------------------+-------+\n",
      "|              month|  trips|\n",
      "+-------------------+-------+\n",
      "|2029-05-01 00:00:00|      1|\n",
      "|2021-12-01 00:00:00|      5|\n",
      "|2021-11-01 00:00:00|      5|\n",
      "|2021-10-01 00:00:00|      3|\n",
      "|2021-09-01 00:00:00|      3|\n",
      "|2021-08-01 00:00:00|  49452|\n",
      "|2021-07-01 00:00:00|2825121|\n",
      "|2021-06-01 00:00:00|2813017|\n",
      "|2021-05-01 00:00:00|2522860|\n",
      "|2021-04-01 00:00:00|2156143|\n",
      "|2021-03-01 00:00:00|1910234|\n",
      "|2021-02-01 00:00:00|1368619|\n",
      "|2021-01-01 00:00:00|1355332|\n",
      "|2020-12-01 00:00:00|      1|\n",
      "|2009-01-01 00:00:00|    137|\n",
      "|2004-04-01 00:00:00|      1|\n",
      "|2003-01-01 00:00:00|      2|\n",
      "+-------------------+-------+\n",
      "\n"
     ]
    },
    {
     "name": "stderr",
     "output_type": "stream",
     "text": [
      "\r",
      "                                                                                \r"
     ]
    }
   ],
   "source": [
    "query = \"\"\"\n",
    "SELECT\n",
    "    DATE_TRUNC('MM',c.pickup_date) AS month,\n",
    "    COUNT(*) AS trips\n",
    "FROM\n",
    "    comb c\n",
    "GROUP BY\n",
    "    month\n",
    "ORDER BY\n",
    "    month desc\n",
    "\"\"\"\n",
    "spark.sql(query).show()"
   ]
  },
  {
   "cell_type": "code",
   "execution_count": 46,
   "id": "140878e3",
   "metadata": {},
   "outputs": [],
   "source": [
    "# Data Cleaning\n",
    "query = \"\"\"\n",
    "SELECT\n",
    "    *\n",
    "FROM\n",
    "    comb c\n",
    "WHERE\n",
    "    c.total_amount < 5000\n",
    "    AND c.total_amount > 0\n",
    "    AND c.trip_distance < 100\n",
    "    AND c.passenger_count < 4\n",
    "    AND c.pickup_date >= '2021-01-01'\n",
    "    AND c.pickup_date < '2021-08-01'\n",
    "\"\"\"\n",
    "cleaned_df = spark.sql(query)\n",
    "cleaned_df.createOrReplaceTempView(\"cleaned\")"
   ]
  },
  {
   "cell_type": "code",
   "execution_count": 47,
   "id": "a4149570",
   "metadata": {},
   "outputs": [
    {
     "name": "stderr",
     "output_type": "stream",
     "text": [
      "                                                                                \r"
     ]
    },
    {
     "name": "stdout",
     "output_type": "stream",
     "text": [
      "+-------+-------------------+------------------+-----------------+------------------+------------------+------------------+------------------+-------------------+------------------+-------------------+--------------------+--------------------+\n",
      "|summary|          vendor_id|       pickup_time|     dropoff_time|   passenger_count|     trip_distance|       fare_amount|        tip_amount|       tolls_amount|      total_amount|       payment_type|         pickup_zone|        dropoff_zone|\n",
      "+-------+-------------------+------------------+-----------------+------------------+------------------+------------------+------------------+-------------------+------------------+-------------------+--------------------+--------------------+\n",
      "|  count|           13253642|          13253642|         13253642|          13253642|          13253642|          13253642|          13253642|           13253642|          13253642|           13253642|            13253642|            13253642|\n",
      "|   mean| 1.6707765307075595|11.065577823816277|10.86966141080316|1.2087798961221377|2.8368847340224344|12.157346865109043|2.1879433819022878|0.26995760033374677| 18.06785868745926|  1.247044850011793|                null|                null|\n",
      "| stddev|0.46993126435866056| 8.434813990452826|8.401522225456898|0.5413674720611796|3.6233570133977633|10.984533246342409| 2.576750119511501|  1.541941318978806|13.260179704538254|0.45326395701585787|                null|                null|\n",
      "|    min|                  1|                 0|                0|               0.0|               0.0|              -0.8|               0.0|                0.0|              0.01|                  1|Allerton/Pelham G...|Allerton/Pelham G...|\n",
      "|    max|                  2|                23|               23|               3.0|             99.96|            4969.0|             700.0|             956.55|            4973.3|                  5|      Yorkville West|      Yorkville West|\n",
      "+-------+-------------------+------------------+-----------------+------------------+------------------+------------------+------------------+-------------------+------------------+-------------------+--------------------+--------------------+\n",
      "\n"
     ]
    }
   ],
   "source": [
    "cleaned_df.describe().show()"
   ]
  },
  {
   "cell_type": "code",
   "execution_count": 49,
   "id": "6fd60661",
   "metadata": {},
   "outputs": [],
   "source": [
    "import numpy as np\n",
    "import pandas as pd\n",
    "import seaborn as sns\n",
    "import matplotlib.pyplot as plt\n",
    "import matplotlib.dates as mdates"
   ]
  },
  {
   "cell_type": "code",
   "execution_count": 50,
   "id": "ef2c6f21",
   "metadata": {},
   "outputs": [
    {
     "name": "stderr",
     "output_type": "stream",
     "text": [
      "                                                                                \r"
     ]
    }
   ],
   "source": [
    "query = \"\"\"\n",
    "SELECT\n",
    "    c.pickup_date,\n",
    "    COUNT(*) AS trips\n",
    "FROM\n",
    "    cleaned c\n",
    "GROUP BY\n",
    "    c.pickup_date\n",
    "\"\"\"\n",
    "pd_df=spark.sql(query).toPandas()"
   ]
  },
  {
   "cell_type": "code",
   "execution_count": 54,
   "id": "17df4ddc",
   "metadata": {},
   "outputs": [
    {
     "data": {
      "text/plain": [
       "<AxesSubplot:xlabel='pickup_date', ylabel='trips'>"
      ]
     },
     "execution_count": 54,
     "metadata": {},
     "output_type": "execute_result"
    },
    {
     "data": {
      "image/png": "[encoded data removed]",
      "text/plain": [
       "<Figure size 1152x432 with 1 Axes>"
      ]
     },
     "metadata": {
      "needs_background": "light"
     },
     "output_type": "display_data"
    }
   ],
   "source": [
    "fig, ax = plt.subplots(figsize=(16,6))\n",
    "sns.lineplot(x=\"pickup_date\",y=\"trips\",data=pd_df)"
   ]
  },
  {
   "cell_type": "code",
   "execution_count": 57,
   "id": "84fd60fe",
   "metadata": {},
   "outputs": [
    {
     "name": "stderr",
     "output_type": "stream",
     "text": [
      "                                                                                \r"
     ]
    }
   ],
   "source": [
    "query = \"\"\"\n",
    "SELECT\n",
    "    c.pickup_date,\n",
    "    DATE_FORMAT(c.pickup_date,'EEEE') AS day_of_week,\n",
    "    COUNT(*) AS trips\n",
    "FROM\n",
    "    cleaned c\n",
    "GROUP BY\n",
    "    c.pickup_date,\n",
    "    day_of_week\n",
    "\"\"\"\n",
    "pd_df2 = spark.sql(query).toPandas()"
   ]
  },
  {
   "cell_type": "code",
   "execution_count": 63,
   "id": "4be1f840",
   "metadata": {},
   "outputs": [],
   "source": [
    "data=pd_df2.groupby(\"day_of_week\").trips.median().to_frame().reset_index()\n",
    "data[\"sort_dow\"] = data[\"day_of_week\"].replace(\n",
    "{\n",
    "    \"Sunday\":0,\n",
    "    \"Monday\":1,\n",
    "    \"Tuesday\":2,\n",
    "    \"Wednesday\":3,\n",
    "    \"Thursday\":4,\n",
    "    \"Friday\":5,\n",
    "    \"Saturday\":6,\n",
    "    \n",
    "})"
   ]
  },
  {
   "cell_type": "code",
   "execution_count": 64,
   "id": "83505095",
   "metadata": {},
   "outputs": [],
   "source": [
    "data.sort_values(by=\"sort_dow\",inplace=True)"
   ]
  },
  {
   "cell_type": "code",
   "execution_count": 66,
   "id": "82dee421",
   "metadata": {},
   "outputs": [
    {
     "data": {
      "text/plain": [
       "<AxesSubplot:xlabel='day_of_week', ylabel='trips'>"
      ]
     },
     "execution_count": 66,
     "metadata": {},
     "output_type": "execute_result"
    },
    {
     "data": {
      "image/png": "[encoded data removed]",
      "text/plain": [
       "<Figure size 864x360 with 1 Axes>"
      ]
     },
     "metadata": {
      "needs_background": "light"
     },
     "output_type": "display_data"
    }
   ],
   "source": [
    "fig, ax = plt.subplots(figsize=(12,5))\n",
    "sns.barplot(x=\"day_of_week\",y=\"trips\",data=data)"
   ]
  },
  {
   "cell_type": "code",
   "execution_count": 67,
   "id": "00269979",
   "metadata": {},
   "outputs": [
    {
     "data": {
      "text/plain": [
       "<function __main__.get_weekday()>"
      ]
     },
     "execution_count": 67,
     "metadata": {},
     "output_type": "execute_result"
    }
   ],
   "source": [
    "def get_weekday():\n",
    "    import calendar\n",
    "    return calendar.day_name[data.weekday()]\n",
    "\n",
    "spark.udf.register(\"get_weekday\",get_weekday)"
   ]
  },
  {
   "cell_type": "code",
   "execution_count": 68,
   "id": "8845040d",
   "metadata": {},
   "outputs": [],
   "source": [
    "query = \"\"\"\n",
    "    SELECT\n",
    "    c.pickup_date,\n",
    "    get_weekday(c.pickup_date) AS day_of_week,\n",
    "    COUNT(*) AS trips\n",
    "FROM\n",
    "    cleaned c\n",
    "GROUP BY\n",
    "    c.pickup_date,\n",
    "    day_of_week\n",
    "\"\"\""
   ]
  },
  {
   "cell_type": "code",
   "execution_count": 71,
   "id": "3a3d9a55",
   "metadata": {},
   "outputs": [
    {
     "name": "stderr",
     "output_type": "stream",
     "text": [
      "22/05/23 14:33:30 WARN SimpleFunctionRegistry: The function parse_payment_type replaced a previously registered function.\n"
     ]
    },
    {
     "data": {
      "text/plain": [
       "<function __main__.parse_payment_type(payment_type)>"
      ]
     },
     "execution_count": 71,
     "metadata": {},
     "output_type": "execute_result"
    }
   ],
   "source": [
    "payment_type_to_string = {\n",
    "    1:\"Credit Card\",\n",
    "    2:\"Cash\",\n",
    "    3:\"No Charge\",\n",
    "    4:\"Dispute\",\n",
    "    5:\"Unknown\",\n",
    "    6:\"Voided Trip\",\n",
    "}\n",
    "\n",
    "def parse_payment_type(payment_type):\n",
    "    return payment_type_to_string[payment_type]\n",
    "\n",
    "spark.udf.register(\"parse_payment_type\",parse_payment_type)"
   ]
  },
  {
   "cell_type": "code",
   "execution_count": 72,
   "id": "a08310a9",
   "metadata": {},
   "outputs": [
    {
     "name": "stderr",
     "output_type": "stream",
     "text": [
      "[Stage 91:===================================================>      (8 + 1) / 9]\r"
     ]
    },
    {
     "name": "stdout",
     "output_type": "stream",
     "text": [
      "+--------------------------------+--------+------------------+------------------+\n",
      "|parse_payment_type(payment_type)|   trips|  mean_fare_amount| stdev_fare_amount|\n",
      "+--------------------------------+--------+------------------+------------------+\n",
      "|                     Credit Card|10084721|12.212396654303518|10.793059507387618|\n",
      "|                       No Charge|   58394|11.927290988800209|15.041269068746262|\n",
      "|                            Cash| 3087063|11.978198702132051|11.473206859706206|\n",
      "|                         Dispute|   23463|12.639303158163921|14.154693719632085|\n",
      "|                         Unknown|       1|              17.8|              null|\n",
      "+--------------------------------+--------+------------------+------------------+\n",
      "\n"
     ]
    },
    {
     "name": "stderr",
     "output_type": "stream",
     "text": [
      "\r",
      "                                                                                \r"
     ]
    }
   ],
   "source": [
    "query = \"\"\"\n",
    "SELECT\n",
    "    parse_payment_type(payment_type),\n",
    "    count(*) AS trips,\n",
    "    MEAN(fare_amount) AS mean_fare_amount,\n",
    "    STD(fare_amount) AS stdev_fare_amount\n",
    "    \n",
    "FROM\n",
    "    cleaned\n",
    "GROUP BY\n",
    "    payment_type\n",
    "\"\"\"\n",
    "spark.sql(query).show()"
   ]
  },
  {
   "cell_type": "code",
   "execution_count": null,
   "id": "2a4d83a2",
   "metadata": {},
   "outputs": [],
   "source": []
  }
 ],
 "metadata": {
  "kernelspec": {
   "display_name": "Python 3 (ipykernel)",
   "language": "python",
   "name": "python3"
  },
  "language_info": {
   "codemirror_mode": {
    "name": "ipython",
    "version": 3
   },
   "file_extension": ".py",
   "mimetype": "text/x-python",
   "name": "python",
   "nbconvert_exporter": "python",
   "pygments_lexer": "ipython3",
   "version": "3.9.12"
  }
 },
 "nbformat": 4,
 "nbformat_minor": 5
}
