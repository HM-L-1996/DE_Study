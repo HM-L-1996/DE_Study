{
 "cells": [
  {
   "cell_type": "code",
   "execution_count": 1,
   "id": "080fee9c",
   "metadata": {},
   "outputs": [
    {
     "name": "stderr",
     "output_type": "stream",
     "text": [
      "22/05/24 11:31:24 WARN Utils: Your hostname, ihyeonmin-ui-MacBookPro.local resolves to a loopback address: 127.0.0.1; using 172.30.1.11 instead (on interface en0)\n",
      "22/05/24 11:31:24 WARN Utils: Set SPARK_LOCAL_IP if you need to bind to another address\n",
      "Using Spark's default log4j profile: org/apache/spark/log4j-defaults.properties\n",
      "Setting default log level to \"WARN\".\n",
      "To adjust logging level use sc.setLogLevel(newLevel). For SparkR, use setLogLevel(newLevel).\n",
      "22/05/24 11:31:24 WARN NativeCodeLoader: Unable to load native-hadoop library for your platform... using builtin-java classes where applicable\n"
     ]
    }
   ],
   "source": [
    "from pyspark.sql import SparkSession\n",
    "\n",
    "MAX_MEMORY=\"5g\"\n",
    "spark = SparkSession.builder.appName(\"sparkml_text_fare_prediction_v3\")\\\n",
    "                .config(\"spark.executor.memory\",MAX_MEMORY)\\\n",
    "                .config(\"spark.driver.memory\",MAX_MEMORY)\\\n",
    "                .getOrCreate()"
   ]
  },
  {
   "cell_type": "code",
   "execution_count": 3,
   "id": "4fd00593",
   "metadata": {},
   "outputs": [],
   "source": [
    "data_dir = \"/Users/ihyeonmin/Desktop/study/data-engineering/01-spark/data/trips/\""
   ]
  },
  {
   "cell_type": "code",
   "execution_count": 5,
   "id": "33d3ef4c",
   "metadata": {},
   "outputs": [
    {
     "name": "stderr",
     "output_type": "stream",
     "text": [
      "                                                                                \r"
     ]
    }
   ],
   "source": [
    "train_df = spark.read.parquet(f\"{data_dir}/train/\")\n",
    "test_df = spark.read.parquet(f\"{data_dir}/test/\")"
   ]
  },
  {
   "cell_type": "code",
   "execution_count": 6,
   "id": "e9a6b2dd",
   "metadata": {},
   "outputs": [],
   "source": [
    "toy_df = train_df.sample(False,0.1,seed=1)"
   ]
  },
  {
   "cell_type": "code",
   "execution_count": 8,
   "id": "0d408b0d",
   "metadata": {},
   "outputs": [
    {
     "name": "stdout",
     "output_type": "stream",
     "text": [
      "root\n",
      " |-- passenger_count: double (nullable = true)\n",
      " |-- pickup_location_id: long (nullable = true)\n",
      " |-- dropoff_location_id: long (nullable = true)\n",
      " |-- trip_distance: double (nullable = true)\n",
      " |-- pickup_time: integer (nullable = true)\n",
      " |-- day_of_week: string (nullable = true)\n",
      " |-- total_amount: double (nullable = true)\n",
      "\n"
     ]
    }
   ],
   "source": [
    "toy_df.printSchema()"
   ]
  },
  {
   "cell_type": "code",
   "execution_count": 9,
   "id": "b85ace6a",
   "metadata": {},
   "outputs": [],
   "source": [
    "# one hot encoding\n",
    "# ex) Wednesday -> 4 -> [0,0,0,1,0,0,0]"
   ]
  },
  {
   "cell_type": "code",
   "execution_count": 10,
   "id": "5b27c784",
   "metadata": {},
   "outputs": [
    {
     "name": "stdout",
     "output_type": "stream",
     "text": [
      "[StringIndexer_95737b30b350, OneHotEncoder_477665edd5d6, StringIndexer_4a5068563b97, OneHotEncoder_161e917430a4, StringIndexer_9134ddb74dc1, OneHotEncoder_a2d97a80e409]\n"
     ]
    }
   ],
   "source": [
    "from pyspark.ml.feature import OneHotEncoder,StringIndexer\n",
    "\n",
    "cat_feats = [\n",
    "    \"pickup_location_id\",\n",
    "    \"dropoff_location_id\",\n",
    "    \"day_of_week\"\n",
    "    ]\n",
    "stages=[]\n",
    "\n",
    "for c in cat_feats:\n",
    "    cat_indexer = StringIndexer(inputCol=c,outputCol=c+\"_idx\").setHandleInvalid(\"keep\")\n",
    "    onehot_encoder = OneHotEncoder(inputCols=[cat_indexer.getOutputCol()],outputCols=[c+\"_onehot\"])\n",
    "    stages += [cat_indexer,onehot_encoder]\n",
    "print(stages)"
   ]
  },
  {
   "cell_type": "code",
   "execution_count": 11,
   "id": "1e151f8b",
   "metadata": {},
   "outputs": [],
   "source": [
    "from pyspark.ml.feature import VectorAssembler,StandardScaler\n",
    "\n",
    "num_feats = [\n",
    "    \"passenger_count\",\n",
    "    \"trip_distance\",\n",
    "    \"total_amount\"\n",
    "]\n",
    "\n",
    "for n in num_feats:\n",
    "    num_assembler = VectorAssembler(inputCols=[n],outputCol=n+\"_vector\")\n",
    "    num_scaler = StandardScaler(inputCol=num_assembler.getOutputCol(),outputCol=n+\"_scaled\")\n",
    "    stages+=[num_assembler,num_scaler]"
   ]
  },
  {
   "cell_type": "code",
   "execution_count": 12,
   "id": "8ca16712",
   "metadata": {},
   "outputs": [],
   "source": [
    "assembler_inputs = [c + \"_onehot\" for c in cat_feats] + [n+\"_scaled\" for n in num_feats]\n",
    "assembler = VectorAssembler(inputCols=assembler_inputs,outputCol=\"feature_vector\")\n",
    "stages += [assembler]"
   ]
  },
  {
   "cell_type": "markdown",
   "id": "f1ecf183",
   "metadata": {},
   "source": [
    "## HyperParameter Tuning"
   ]
  },
  {
   "cell_type": "code",
   "execution_count": 20,
   "id": "57c27bc5",
   "metadata": {},
   "outputs": [],
   "source": [
    "from pyspark.ml import Pipeline\n",
    "from pyspark.ml.regression import LinearRegression\n",
    "from pyspark.ml.tuning import CrossValidator,ParamGridBuilder\n",
    "from pyspark.ml.evaluation import RegressionEvaluator\n",
    "\n",
    "lr = LinearRegression(\n",
    "    maxIter=30,\n",
    "    solver=\"normal\",\n",
    "    labelCol=\"total_amount\",\n",
    "    featuresCol=\"feature_vector\"\n",
    ")\n",
    "\n",
    "cv_stage = stages+[lr]"
   ]
  },
  {
   "cell_type": "code",
   "execution_count": 21,
   "id": "c53614d4",
   "metadata": {},
   "outputs": [],
   "source": [
    "cv_pipeline = Pipeline(stages=cv_stage)"
   ]
  },
  {
   "cell_type": "code",
   "execution_count": 22,
   "id": "dfc188c9",
   "metadata": {},
   "outputs": [],
   "source": [
    "param_Grid = ParamGridBuilder()\\\n",
    "                .addGrid(lr.elasticNetParam,[0.1,0.2,0.3,0.4,0.5])\\\n",
    "                .addGrid(lr.regParam,[0.01,0.02,0.03,0.04,0.05])\\\n",
    "                .build()"
   ]
  },
  {
   "cell_type": "code",
   "execution_count": 24,
   "id": "7d5e8322",
   "metadata": {},
   "outputs": [],
   "source": [
    "cross_val = CrossValidator(estimator=cv_pipeline,\n",
    "                           estimatorParamMaps=param_Grid,\n",
    "                           evaluator=RegressionEvaluator(labelCol=\"total_amount\"),\n",
    "                           numFolds=5\n",
    ")"
   ]
  },
  {
   "cell_type": "code",
   "execution_count": 25,
   "id": "77404837",
   "metadata": {},
   "outputs": [
    {
     "name": "stderr",
     "output_type": "stream",
     "text": [
      "Exception ignored in: <function JavaWrapper.__del__ at 0x114b14e50>\n",
      "Traceback (most recent call last):\n",
      "  File \"/usr/local/lib/python3.9/site-packages/pyspark/ml/wrapper.py\", line 39, in __del__\n",
      "    if SparkContext._active_spark_context and self._java_obj is not None:\n",
      "AttributeError: 'LinearRegression' object has no attribute '_java_obj'\n",
      "22/05/24 11:42:03 WARN InstanceBuilder$NativeBLAS: Failed to load implementation from:dev.ludovic.netlib.blas.JNIBLAS\n",
      "22/05/24 11:42:03 WARN InstanceBuilder$NativeBLAS: Failed to load implementation from:dev.ludovic.netlib.blas.ForeignLinkerBLAS\n",
      "22/05/24 11:42:05 WARN BLAS: Failed to load implementation from: com.github.fommil.netlib.NativeSystemBLAS\n",
      "22/05/24 11:42:05 WARN BLAS: Failed to load implementation from: com.github.fommil.netlib.NativeRefBLAS\n",
      "                                                                                \r"
     ]
    }
   ],
   "source": [
    "cv_model = cross_val.fit(toy_df)"
   ]
  },
  {
   "cell_type": "code",
   "execution_count": 27,
   "id": "7e60b135",
   "metadata": {},
   "outputs": [],
   "source": [
    "alpha=cv_model.bestModel.stages[-1]._java_obj.getElasticNetParam()\n",
    "reg_param = cv_model.bestModel.stages[-1]._java_obj.getRegParam()"
   ]
  },
  {
   "cell_type": "markdown",
   "id": "02717409",
   "metadata": {},
   "source": [
    "## Training"
   ]
  },
  {
   "cell_type": "code",
   "execution_count": 28,
   "id": "7c82690b",
   "metadata": {},
   "outputs": [
    {
     "name": "stderr",
     "output_type": "stream",
     "text": [
      "                                                                                \r"
     ]
    }
   ],
   "source": [
    "from pyspark.ml import Pipeline\n",
    "\n",
    "transform_stages=stages\n",
    "pipeline = Pipeline(stages=transform_stages)\n",
    "fitted_transformer = pipeline.fit(train_df)"
   ]
  },
  {
   "cell_type": "code",
   "execution_count": 29,
   "id": "c8d91cd0",
   "metadata": {},
   "outputs": [],
   "source": [
    "vtrain_df = fitted_transformer.transform(train_df)"
   ]
  },
  {
   "cell_type": "code",
   "execution_count": 30,
   "id": "0aae9844",
   "metadata": {},
   "outputs": [],
   "source": [
    "from pyspark.ml.regression import LinearRegression\n",
    "\n",
    "lr = LinearRegression(\n",
    "    maxIter=5,\n",
    "    solver=\"normal\",\n",
    "    labelCol=\"total_amount\",\n",
    "    featuresCol=\"feature_vector\",\n",
    "    elasticNetParam=alpha,\n",
    "    regParam=reg_param\n",
    ")"
   ]
  },
  {
   "cell_type": "code",
   "execution_count": 31,
   "id": "0b295d3a",
   "metadata": {},
   "outputs": [
    {
     "name": "stdout",
     "output_type": "stream",
     "text": [
      "root\n",
      " |-- passenger_count: double (nullable = true)\n",
      " |-- pickup_location_id: long (nullable = true)\n",
      " |-- dropoff_location_id: long (nullable = true)\n",
      " |-- trip_distance: double (nullable = true)\n",
      " |-- pickup_time: integer (nullable = true)\n",
      " |-- day_of_week: string (nullable = true)\n",
      " |-- total_amount: double (nullable = true)\n",
      " |-- pickup_location_id_idx: double (nullable = false)\n",
      " |-- pickup_location_id_onehot: vector (nullable = true)\n",
      " |-- dropoff_location_id_idx: double (nullable = false)\n",
      " |-- dropoff_location_id_onehot: vector (nullable = true)\n",
      " |-- day_of_week_idx: double (nullable = false)\n",
      " |-- day_of_week_onehot: vector (nullable = true)\n",
      " |-- passenger_count_vector: vector (nullable = true)\n",
      " |-- passenger_count_scaled: vector (nullable = true)\n",
      " |-- trip_distance_vector: vector (nullable = true)\n",
      " |-- trip_distance_scaled: vector (nullable = true)\n",
      " |-- total_amount_vector: vector (nullable = true)\n",
      " |-- total_amount_scaled: vector (nullable = true)\n",
      " |-- feature_vector: vector (nullable = true)\n",
      "\n"
     ]
    }
   ],
   "source": [
    "vtrain_df.printSchema()"
   ]
  },
  {
   "cell_type": "code",
   "execution_count": 32,
   "id": "b6adfc23",
   "metadata": {},
   "outputs": [
    {
     "name": "stderr",
     "output_type": "stream",
     "text": [
      "                                                                                \r"
     ]
    }
   ],
   "source": [
    "model = lr.fit(vtrain_df)"
   ]
  },
  {
   "cell_type": "code",
   "execution_count": 33,
   "id": "c711bca3",
   "metadata": {},
   "outputs": [],
   "source": [
    "vtest_df = fitted_transformer.transform(test_df)"
   ]
  },
  {
   "cell_type": "code",
   "execution_count": 34,
   "id": "da980117",
   "metadata": {},
   "outputs": [],
   "source": [
    "predictions=model.transform(vtest_df)"
   ]
  },
  {
   "cell_type": "code",
   "execution_count": 35,
   "id": "9af38c9c",
   "metadata": {},
   "outputs": [
    {
     "data": {
      "text/plain": [
       "DataFrame[passenger_count: double, pickup_location_id: bigint, dropoff_location_id: bigint, trip_distance: double, pickup_time: int, day_of_week: string, total_amount: double, pickup_location_id_idx: double, pickup_location_id_onehot: vector, dropoff_location_id_idx: double, dropoff_location_id_onehot: vector, day_of_week_idx: double, day_of_week_onehot: vector, passenger_count_vector: vector, passenger_count_scaled: vector, trip_distance_vector: vector, trip_distance_scaled: vector, total_amount_vector: vector, total_amount_scaled: vector, feature_vector: vector, prediction: double]"
      ]
     },
     "execution_count": 35,
     "metadata": {},
     "output_type": "execute_result"
    }
   ],
   "source": [
    "predictions.cache()"
   ]
  },
  {
   "cell_type": "code",
   "execution_count": 36,
   "id": "719229f9",
   "metadata": {},
   "outputs": [
    {
     "name": "stderr",
     "output_type": "stream",
     "text": [
      "\r",
      "[Stage 3046:>                                                       (0 + 1) / 1]\r"
     ]
    },
    {
     "name": "stdout",
     "output_type": "stream",
     "text": [
      "+-------------+-----------+------------+------------------+\n",
      "|trip_distance|day_of_week|total_amount|        prediction|\n",
      "+-------------+-----------+------------+------------------+\n",
      "|         13.9|   Saturday|         4.3|31.225308046786118|\n",
      "|          3.3|     Sunday|         5.8| 8.651171994667823|\n",
      "|          5.5|     Sunday|       26.75|26.470713602222297|\n",
      "|          7.9|   Saturday|        30.3|31.141557171024292|\n",
      "|          0.4|  Wednesday|         7.8| 8.344974111154128|\n",
      "|          1.0|   Saturday|        11.8|11.834671791881147|\n",
      "|          1.3|   Saturday|       12.85|12.875437500475657|\n",
      "|          9.4|   Saturday|        39.8| 39.60780364855241|\n",
      "|          1.5|  Wednesday|        13.3|13.367471378095443|\n",
      "|          4.7|     Sunday|       26.15|25.669476520322217|\n",
      "|          0.6|   Saturday|       11.75|  11.5852168041755|\n",
      "|          1.1|    Tuesday|        11.8|11.976043158727427|\n",
      "|          3.7|     Friday|       24.35|23.667212807541105|\n",
      "|          2.4|   Saturday|       14.75|15.228514243747917|\n",
      "|          2.5|   Saturday|        15.8|16.122231047302066|\n",
      "|          6.5|   Saturday|       32.75|31.698020402924975|\n",
      "|          4.0|   Thursday|        20.8|21.102286365139978|\n",
      "|          1.1|     Friday|       14.15|13.815665793296168|\n",
      "|          2.4|    Tuesday|       18.35|18.002115841043402|\n",
      "|          3.6|     Friday|       21.35|21.301641611976592|\n",
      "+-------------+-----------+------------+------------------+\n",
      "only showing top 20 rows\n",
      "\n"
     ]
    },
    {
     "name": "stderr",
     "output_type": "stream",
     "text": [
      "\r",
      "                                                                                \r"
     ]
    }
   ],
   "source": [
    "predictions.select([\"trip_distance\",\"day_of_week\",\"total_amount\",\"prediction\"]).show()"
   ]
  },
  {
   "cell_type": "code",
   "execution_count": 37,
   "id": "8e4fb73a",
   "metadata": {},
   "outputs": [
    {
     "data": {
      "text/plain": [
       "1.3454024138712863"
      ]
     },
     "execution_count": 37,
     "metadata": {},
     "output_type": "execute_result"
    }
   ],
   "source": [
    "# hyper parameter 적용 전 : 1.3337457020031904\n",
    "model.summary.rootMeanSquaredError"
   ]
  },
  {
   "cell_type": "code",
   "execution_count": 38,
   "id": "5f38e549",
   "metadata": {},
   "outputs": [
    {
     "data": {
      "text/plain": [
       "0.9891055119394475"
      ]
     },
     "execution_count": 38,
     "metadata": {},
     "output_type": "execute_result"
    }
   ],
   "source": [
    "# hyper parameter 적용 전 : 0.9892934761685851\n",
    "model.summary.r2"
   ]
  },
  {
   "cell_type": "code",
   "execution_count": 39,
   "id": "4acdf760",
   "metadata": {},
   "outputs": [
    {
     "name": "stderr",
     "output_type": "stream",
     "text": [
      "                                                                                \r"
     ]
    }
   ],
   "source": [
    "model_dir = \"/Users/ihyeonmin/Desktop/study/data-engineering/01-spark/data/trips/model\"\n",
    "model.save(model_dir)"
   ]
  },
  {
   "cell_type": "code",
   "execution_count": 40,
   "id": "2c148e3f",
   "metadata": {},
   "outputs": [],
   "source": [
    "# model load\n",
    "from pyspark.ml.regression import LinearRegressionModel"
   ]
  },
  {
   "cell_type": "code",
   "execution_count": 41,
   "id": "45f0c137",
   "metadata": {},
   "outputs": [],
   "source": [
    "lr_model = LinearRegressionModel().load(model_dir)"
   ]
  },
  {
   "cell_type": "code",
   "execution_count": 42,
   "id": "62f11c4a",
   "metadata": {},
   "outputs": [],
   "source": [
    "predictions=lr_model.transform(vtest_df)"
   ]
  },
  {
   "cell_type": "code",
   "execution_count": 43,
   "id": "8e6c7a0d",
   "metadata": {
    "scrolled": true
   },
   "outputs": [
    {
     "name": "stdout",
     "output_type": "stream",
     "text": [
      "+---------------+------------------+-------------------+-------------+-----------+-----------+------------+----------------------+-------------------------+-----------------------+--------------------------+---------------+------------------+----------------------+----------------------+--------------------+--------------------+-------------------+--------------------+--------------------+------------------+\n",
      "|passenger_count|pickup_location_id|dropoff_location_id|trip_distance|pickup_time|day_of_week|total_amount|pickup_location_id_idx|pickup_location_id_onehot|dropoff_location_id_idx|dropoff_location_id_onehot|day_of_week_idx|day_of_week_onehot|passenger_count_vector|passenger_count_scaled|trip_distance_vector|trip_distance_scaled|total_amount_vector| total_amount_scaled|      feature_vector|        prediction|\n",
      "+---------------+------------------+-------------------+-------------+-----------+-----------+------------+----------------------+-------------------------+-----------------------+--------------------------+---------------+------------------+----------------------+----------------------+--------------------+--------------------+-------------------+--------------------+--------------------+------------------+\n",
      "|            0.0|                 1|                  1|         13.9|          2|   Saturday|         4.3|                 183.0|        (263,[183],[1.0])|                   84.0|          (261,[84],[1.0])|            2.0|     (7,[2],[1.0])|                 [0.0]|                 [0.0]|              [13.9]| [3.636219547258273]|              [4.3]|[0.3335950869655134]|(534,[183,347,526...|31.225308046786118|\n",
      "|            0.0|                 4|                  4|          3.3|          3|     Sunday|         5.8|                  62.0|         (263,[62],[1.0])|                   49.0|          (261,[49],[1.0])|            5.0|     (7,[5],[1.0])|                 [0.0]|                 [0.0]|               [3.3]|[0.8632751443131151]|              [5.8]|[0.4499654661395297]|(534,[62,312,529,...| 8.651171994667823|\n",
      "|            0.0|                 4|                 75|          5.5|          0|     Sunday|       26.75|                  62.0|         (263,[62],[1.0])|                   19.0|          (261,[19],[1.0])|            5.0|     (7,[5],[1.0])|                 [0.0]|                 [0.0]|               [5.5]|[1.4387919071885253]|            [26.75]| [2.075271761936624]|(534,[62,282,529,...|26.470713602222297|\n",
      "|            0.0|                 4|                 75|          7.9|         10|   Saturday|        30.3|                  62.0|         (263,[62],[1.0])|                   19.0|          (261,[19],[1.0])|            2.0|     (7,[2],[1.0])|                 [0.0]|                 [0.0]|               [7.9]| [2.066628375779882]|             [30.3]|[2.3506816593151294]|(534,[62,282,526,...|31.141557171024292|\n",
      "|            0.0|                 4|                 79|          0.4|          3|  Wednesday|         7.8|                  62.0|         (263,[62],[1.0])|                   18.0|          (261,[18],[1.0])|            3.0|     (7,[3],[1.0])|                 [0.0]|                 [0.0]|               [0.4]|[0.10463941143189...|              [7.8]|[0.6051259717048848]|(534,[62,281,527,...| 8.344974111154128|\n",
      "|            0.0|                 4|                107|          1.0|         10|   Saturday|        11.8|                  62.0|         (263,[62],[1.0])|                   17.0|          (261,[17],[1.0])|            2.0|     (7,[2],[1.0])|                 [0.0]|                 [0.0]|               [1.0]|[0.26159852857973...|             [11.8]| [0.915446982835595]|(534,[62,280,526,...|11.834671791881147|\n",
      "|            0.0|                 4|                107|          1.3|          2|   Saturday|       12.85|                  62.0|         (263,[62],[1.0])|                   17.0|          (261,[17],[1.0])|            2.0|     (7,[2],[1.0])|                 [0.0]|                 [0.0]|               [1.3]|[0.34007808715365...|            [12.85]|[0.9969062482574063]|(534,[62,280,526,...|12.875437500475657|\n",
      "|            0.0|                 4|                116|          9.4|          5|   Saturday|        39.8|                  62.0|         (263,[62],[1.0])|                   55.0|          (261,[55],[1.0])|            2.0|     (7,[2],[1.0])|                 [0.0]|                 [0.0]|               [9.4]|  [2.45902616864948]|             [39.8]| [3.087694060750566]|(534,[62,318,526,...| 39.60780364855241|\n",
      "|            0.0|                 4|                125|          1.5|          0|  Wednesday|        13.3|                  62.0|         (263,[62],[1.0])|                   54.0|          (261,[54],[1.0])|            3.0|     (7,[3],[1.0])|                 [0.0]|                 [0.0]|               [1.5]|[0.3923977928695978]|             [13.3]|[1.0318173620096114]|(534,[62,317,527,...|13.367471378095443|\n",
      "|            0.0|                 4|                143|          4.7|         11|     Sunday|       26.15|                  62.0|         (263,[62],[1.0])|                   23.0|          (261,[23],[1.0])|            5.0|     (7,[5],[1.0])|                 [0.0]|                 [0.0]|               [4.7]|  [1.22951308432474]|            [26.15]|[2.0287236102670176]|(534,[62,286,529,...|25.669476520322217|\n",
      "|            0.0|                 4|                148|          0.6|          7|   Saturday|       11.75|                  62.0|         (263,[62],[1.0])|                   39.0|          (261,[39],[1.0])|            2.0|     (7,[2],[1.0])|                 [0.0]|                 [0.0]|               [0.6]|[0.1569591171478391]|            [11.75]|[0.9115679701964611]|(534,[62,302,526,...|  11.5852168041755|\n",
      "|            0.0|                 4|                148|          1.1|          4|    Tuesday|        11.8|                  62.0|         (263,[62],[1.0])|                   39.0|          (261,[39],[1.0])|            4.0|     (7,[4],[1.0])|                 [0.0]|                 [0.0]|               [1.1]|[0.2877583814377051]|             [11.8]| [0.915446982835595]|(534,[62,302,528,...|11.976043158727427|\n",
      "|            0.0|                 4|                163|          3.7|         17|     Friday|       24.35|                  62.0|         (263,[62],[1.0])|                   14.0|          (261,[14],[1.0])|            1.0|     (7,[1],[1.0])|                 [0.0]|                 [0.0]|               [3.7]| [0.967914555745008]|            [24.35]| [1.889079155258198]|(534,[62,277,525,...|23.667212807541105|\n",
      "|            0.0|                 4|                170|          2.4|         23|   Saturday|       14.75|                  62.0|         (263,[62],[1.0])|                    4.0|           (261,[4],[1.0])|            2.0|     (7,[2],[1.0])|                 [0.0]|                 [0.0]|               [2.4]|[0.6278364685913564]|            [14.75]|[1.1443087285444937]|(534,[62,267,526,...|15.228514243747917|\n",
      "|            0.0|                 4|                170|          2.5|          8|   Saturday|        15.8|                  62.0|         (263,[62],[1.0])|                    4.0|           (261,[4],[1.0])|            2.0|     (7,[2],[1.0])|                 [0.0]|                 [0.0]|               [2.5]|[0.6539963214493296]|             [15.8]| [1.225767993966305]|(534,[62,267,526,...|16.122231047302066|\n",
      "|            0.0|                 4|                179|          6.5|          8|   Saturday|       32.75|                  62.0|         (263,[62],[1.0])|                   82.0|          (261,[82],[1.0])|            2.0|     (7,[2],[1.0])|                 [0.0]|                 [0.0]|               [6.5]| [1.700390435768257]|            [32.75]|[2.5407532786326894]|(534,[62,345,526,...|31.698020402924975|\n",
      "|            0.0|                 4|                230|          4.0|         23|   Thursday|        20.8|                  62.0|         (263,[62],[1.0])|                   25.0|          (261,[25],[1.0])|            0.0|     (7,[0],[1.0])|                 [0.0]|                 [0.0]|               [4.0]|[1.0463941143189275]|             [20.8]|[1.6136692578796927]|(534,[62,288,524,...|21.102286365139978|\n",
      "|            0.0|                 4|                234|          1.1|         19|     Friday|       14.15|                  62.0|         (263,[62],[1.0])|                   12.0|          (261,[12],[1.0])|            1.0|     (7,[1],[1.0])|                 [0.0]|                 [0.0]|               [1.1]|[0.2877583814377051]|            [14.15]|[1.0977605768748873]|(534,[62,275,525,...|13.815665793296168|\n",
      "|            0.0|                 4|                234|          2.4|         22|    Tuesday|       18.35|                  62.0|         (263,[62],[1.0])|                   12.0|          (261,[12],[1.0])|            4.0|     (7,[4],[1.0])|                 [0.0]|                 [0.0]|               [2.4]|[0.6278364685913564]|            [18.35]| [1.423597638562133]|(534,[62,275,528,...|18.002115841043402|\n",
      "|            0.0|                 4|                237|          3.6|          8|     Friday|       21.35|                  62.0|         (263,[62],[1.0])|                    1.0|           (261,[1],[1.0])|            1.0|     (7,[1],[1.0])|                 [0.0]|                 [0.0]|               [3.6]|[0.9417547028870348]|            [21.35]|[1.6563383969101655]|(534,[62,264,525,...|21.301641611976592|\n",
      "+---------------+------------------+-------------------+-------------+-----------+-----------+------------+----------------------+-------------------------+-----------------------+--------------------------+---------------+------------------+----------------------+----------------------+--------------------+--------------------+-------------------+--------------------+--------------------+------------------+\n",
      "only showing top 20 rows\n",
      "\n"
     ]
    }
   ],
   "source": [
    "predictions.show() "
   ]
  },
  {
   "cell_type": "code",
   "execution_count": 44,
   "id": "07ec6356",
   "metadata": {},
   "outputs": [],
   "source": [
    "spark.stop()"
   ]
  },
  {
   "cell_type": "code",
   "execution_count": null,
   "id": "dc765c60",
   "metadata": {},
   "outputs": [],
   "source": []
  }
 ],
 "metadata": {
  "kernelspec": {
   "display_name": "Python 3 (ipykernel)",
   "language": "python",
   "name": "python3"
  },
  "language_info": {
   "codemirror_mode": {
    "name": "ipython",
    "version": 3
   },
   "file_extension": ".py",
   "mimetype": "text/x-python",
   "name": "python",
   "nbconvert_exporter": "python",
   "pygments_lexer": "ipython3",
   "version": "3.9.12"
  }
 },
 "nbformat": 4,
 "nbformat_minor": 5
}
