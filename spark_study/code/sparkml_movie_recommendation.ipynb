{
 "cells": [
  {
   "cell_type": "markdown",
   "id": "e6a36521",
   "metadata": {},
   "source": [
    "## 데이터 출처 : https://grouplens.org/datasets/movielens/25m/"
   ]
  },
  {
   "cell_type": "code",
   "execution_count": 1,
   "id": "a525df84",
   "metadata": {},
   "outputs": [],
   "source": [
    "from pyspark.sql import SparkSession"
   ]
  },
  {
   "cell_type": "code",
   "execution_count": 2,
   "id": "4cddc847",
   "metadata": {},
   "outputs": [
    {
     "name": "stderr",
     "output_type": "stream",
     "text": [
      "22/05/23 15:56:13 WARN Utils: Your hostname, ihyeonmin-ui-MacBookPro.local resolves to a loopback address: 127.0.0.1; using 172.30.1.11 instead (on interface en0)\n",
      "22/05/23 15:56:13 WARN Utils: Set SPARK_LOCAL_IP if you need to bind to another address\n",
      "Using Spark's default log4j profile: org/apache/spark/log4j-defaults.properties\n",
      "Setting default log level to \"WARN\".\n",
      "To adjust logging level use sc.setLogLevel(newLevel). For SparkR, use setLogLevel(newLevel).\n",
      "22/05/23 15:56:14 WARN NativeCodeLoader: Unable to load native-hadoop library for your platform... using builtin-java classes where applicable\n",
      "22/05/23 15:56:15 WARN Utils: Service 'SparkUI' could not bind on port 4040. Attempting port 4041.\n",
      "22/05/23 15:56:15 WARN Utils: Service 'SparkUI' could not bind on port 4041. Attempting port 4042.\n"
     ]
    }
   ],
   "source": [
    "MAX_MEMORY = \"5g\"\n",
    "spark = SparkSession.builder.appName(\"sparkml_movie_recommendation\")\\\n",
    "    .config(\"spark.executor.memory\",MAX_MEMORY)\\\n",
    "    .config(\"spark.driver.memory\",MAX_MEMORY)\\\n",
    "    .getOrCreate()"
   ]
  },
  {
   "cell_type": "code",
   "execution_count": 3,
   "id": "286ceaf2",
   "metadata": {},
   "outputs": [
    {
     "name": "stderr",
     "output_type": "stream",
     "text": [
      "                                                                                \r"
     ]
    }
   ],
   "source": [
    "ratings_file = \"/Users/ihyeonmin/Desktop/study/data-engineering/01-spark/data/ml-25m/ratings.csv\"\n",
    "ratings_df = spark.read.csv(f\"file:///{ratings_file}\",inferSchema=True,header=True)"
   ]
  },
  {
   "cell_type": "code",
   "execution_count": 4,
   "id": "32b848f9",
   "metadata": {
    "scrolled": true
   },
   "outputs": [
    {
     "name": "stdout",
     "output_type": "stream",
     "text": [
      "+------+-------+------+----------+\n",
      "|userId|movieId|rating| timestamp|\n",
      "+------+-------+------+----------+\n",
      "|     1|    296|   5.0|1147880044|\n",
      "|     1|    306|   3.5|1147868817|\n",
      "|     1|    307|   5.0|1147868828|\n",
      "|     1|    665|   5.0|1147878820|\n",
      "|     1|    899|   3.5|1147868510|\n",
      "|     1|   1088|   4.0|1147868495|\n",
      "|     1|   1175|   3.5|1147868826|\n",
      "|     1|   1217|   3.5|1147878326|\n",
      "|     1|   1237|   5.0|1147868839|\n",
      "|     1|   1250|   4.0|1147868414|\n",
      "|     1|   1260|   3.5|1147877857|\n",
      "|     1|   1653|   4.0|1147868097|\n",
      "|     1|   2011|   2.5|1147868079|\n",
      "|     1|   2012|   2.5|1147868068|\n",
      "|     1|   2068|   2.5|1147869044|\n",
      "|     1|   2161|   3.5|1147868609|\n",
      "|     1|   2351|   4.5|1147877957|\n",
      "|     1|   2573|   4.0|1147878923|\n",
      "|     1|   2632|   5.0|1147878248|\n",
      "|     1|   2692|   5.0|1147869100|\n",
      "+------+-------+------+----------+\n",
      "only showing top 20 rows\n",
      "\n"
     ]
    }
   ],
   "source": [
    "ratings_df.show()"
   ]
  },
  {
   "cell_type": "code",
   "execution_count": 5,
   "id": "c7f7f6ea",
   "metadata": {},
   "outputs": [],
   "source": [
    "ratings_df = ratings_df.select([\"userId\",\"movieId\",\"rating\"])"
   ]
  },
  {
   "cell_type": "code",
   "execution_count": 6,
   "id": "b8349b22",
   "metadata": {},
   "outputs": [
    {
     "name": "stdout",
     "output_type": "stream",
     "text": [
      "root\n",
      " |-- userId: integer (nullable = true)\n",
      " |-- movieId: integer (nullable = true)\n",
      " |-- rating: double (nullable = true)\n",
      "\n"
     ]
    }
   ],
   "source": [
    "ratings_df.printSchema()"
   ]
  },
  {
   "cell_type": "code",
   "execution_count": 7,
   "id": "03ce9bf1",
   "metadata": {},
   "outputs": [
    {
     "name": "stderr",
     "output_type": "stream",
     "text": [
      "[Stage 3:===================================================>       (7 + 1) / 8]\r"
     ]
    },
    {
     "name": "stdout",
     "output_type": "stream",
     "text": [
      "+-------+------------------+\n",
      "|summary|            rating|\n",
      "+-------+------------------+\n",
      "|  count|          25000095|\n",
      "|   mean| 3.533854451353085|\n",
      "| stddev|1.0607439611423508|\n",
      "|    min|               0.5|\n",
      "|    max|               5.0|\n",
      "+-------+------------------+\n",
      "\n"
     ]
    },
    {
     "name": "stderr",
     "output_type": "stream",
     "text": [
      "\r\n",
      "                                                                                \r"
     ]
    }
   ],
   "source": [
    "ratings_df.select(\"rating\").describe().show()"
   ]
  },
  {
   "cell_type": "code",
   "execution_count": 8,
   "id": "3553cb71",
   "metadata": {},
   "outputs": [],
   "source": [
    "train_df,test_df = ratings_df.randomSplit([0.8,0.2])"
   ]
  },
  {
   "cell_type": "code",
   "execution_count": 9,
   "id": "bd90caed",
   "metadata": {},
   "outputs": [],
   "source": [
    "from pyspark.ml.recommendation import ALS"
   ]
  },
  {
   "cell_type": "code",
   "execution_count": 10,
   "id": "c4b0c4e1",
   "metadata": {},
   "outputs": [],
   "source": [
    "als = ALS(\n",
    "    maxIter=5,\n",
    "    regParam=0.1,\n",
    "    userCol=\"userId\",\n",
    "    itemCol=\"movieId\",\n",
    "    ratingCol=\"rating\",\n",
    "    coldStartStrategy=\"drop\"\n",
    ")"
   ]
  },
  {
   "cell_type": "code",
   "execution_count": 11,
   "id": "9c42a9fb",
   "metadata": {},
   "outputs": [
    {
     "name": "stderr",
     "output_type": "stream",
     "text": [
      "22/05/23 15:57:09 WARN InstanceBuilder$NativeBLAS: Failed to load implementation from:dev.ludovic.netlib.blas.JNIBLAS\n",
      "22/05/23 15:57:09 WARN InstanceBuilder$NativeBLAS: Failed to load implementation from:dev.ludovic.netlib.blas.ForeignLinkerBLAS\n",
      "22/05/23 15:57:10 WARN InstanceBuilder$NativeLAPACK: Failed to load implementation from:dev.ludovic.netlib.lapack.JNILAPACK\n",
      "                                                                                \r"
     ]
    }
   ],
   "source": [
    "model=als.fit(train_df)"
   ]
  },
  {
   "cell_type": "code",
   "execution_count": 12,
   "id": "6fb1225e",
   "metadata": {},
   "outputs": [],
   "source": [
    "predictions = model.transform(test_df)"
   ]
  },
  {
   "cell_type": "code",
   "execution_count": 13,
   "id": "65d2e2b4",
   "metadata": {},
   "outputs": [
    {
     "name": "stderr",
     "output_type": "stream",
     "text": [
      "                                                                                \r"
     ]
    },
    {
     "name": "stdout",
     "output_type": "stream",
     "text": [
      "+------+-------+------+----------+\n",
      "|userId|movieId|rating|prediction|\n",
      "+------+-------+------+----------+\n",
      "|    76|   1342|   3.5|  3.031944|\n",
      "|   296|   1580|   3.0| 2.6825006|\n",
      "|   321|   3175|   3.0| 3.2240853|\n",
      "|   368|  54190|   4.0|  3.451634|\n",
      "|   501|   1580|   5.0| 3.9116085|\n",
      "|   501|   1645|   4.0| 3.6053133|\n",
      "|   588|   1645|   2.5|  2.634791|\n",
      "|   596|   1580|   3.0| 3.5761979|\n",
      "|   597|   1591|   2.0| 2.5032573|\n",
      "|   606|   1580|   5.0|  4.222599|\n",
      "|   606|   1645|   3.0| 4.1143756|\n",
      "|   606|   4519|   4.0|  3.782704|\n",
      "|   606|  68135|   3.5| 4.0179014|\n",
      "|   606| 160563|   4.0| 3.9945238|\n",
      "|   613|   1088|   4.0| 3.1805325|\n",
      "|   626|   2122|   2.0| 2.2775686|\n",
      "|   626|   2366|   3.0| 3.1631243|\n",
      "|   633|   1591|   5.0| 3.1724758|\n",
      "|   772|    471|   4.0| 3.5199957|\n",
      "|   804|   3175|   5.0| 4.4561524|\n",
      "+------+-------+------+----------+\n",
      "only showing top 20 rows\n",
      "\n"
     ]
    }
   ],
   "source": [
    "predictions.show()"
   ]
  },
  {
   "cell_type": "code",
   "execution_count": 15,
   "id": "65f2c987",
   "metadata": {},
   "outputs": [
    {
     "name": "stderr",
     "output_type": "stream",
     "text": [
      "[Stage 136:==================================================>      (8 + 1) / 9]\r"
     ]
    },
    {
     "name": "stdout",
     "output_type": "stream",
     "text": [
      "+-------+------------------+------------------+\n",
      "|summary|            rating|        prediction|\n",
      "+-------+------------------+------------------+\n",
      "|  count|           4997956|           4997956|\n",
      "|   mean|3.5343081251615662|3.4194287718659613|\n",
      "| stddev|1.0608288528728944|0.6424643642115752|\n",
      "|    min|               0.5|        -1.1333814|\n",
      "|    max|               5.0|         6.7938986|\n",
      "+-------+------------------+------------------+\n",
      "\n"
     ]
    },
    {
     "name": "stderr",
     "output_type": "stream",
     "text": [
      "\r\n",
      "                                                                                \r"
     ]
    }
   ],
   "source": [
    "predictions.select(\"rating\",\"prediction\").describe().show()"
   ]
  },
  {
   "cell_type": "code",
   "execution_count": 18,
   "id": "74be60c9",
   "metadata": {},
   "outputs": [],
   "source": [
    "from pyspark.ml.evaluation import RegressionEvaluator\n",
    "\n",
    "evaluator = RegressionEvaluator(metricName=\"rmse\",labelCol=\"rating\",predictionCol=\"prediction\")"
   ]
  },
  {
   "cell_type": "code",
   "execution_count": 19,
   "id": "4a3c731f",
   "metadata": {},
   "outputs": [
    {
     "name": "stderr",
     "output_type": "stream",
     "text": [
      "                                                                                \r"
     ]
    }
   ],
   "source": [
    "rmse = evaluator.evaluate(predictions)"
   ]
  },
  {
   "cell_type": "code",
   "execution_count": 20,
   "id": "7725632c",
   "metadata": {},
   "outputs": [
    {
     "name": "stdout",
     "output_type": "stream",
     "text": [
      "0.8106739576782812\n"
     ]
    }
   ],
   "source": [
    "print(rmse)"
   ]
  },
  {
   "cell_type": "code",
   "execution_count": 21,
   "id": "0a4ec109",
   "metadata": {},
   "outputs": [
    {
     "name": "stderr",
     "output_type": "stream",
     "text": [
      "/usr/local/lib/python3.9/site-packages/pyspark/sql/context.py:125: FutureWarning: Deprecated in 3.0.0. Use SparkSession.builder.getOrCreate() instead.\n",
      "  warnings.warn(\n",
      "[Stage 214:=====================================================>(99 + 1) / 100]\r"
     ]
    },
    {
     "name": "stdout",
     "output_type": "stream",
     "text": [
      "+------+--------------------+\n",
      "|userId|     recommendations|\n",
      "+------+--------------------+\n",
      "|    26|[{203086, 5.93246...|\n",
      "|    27|[{203086, 6.27643...|\n",
      "|    28|[{194434, 7.40544...|\n",
      "|    31|[{194334, 3.82996...|\n",
      "|    34|[{194434, 5.35815...|\n",
      "|    44|[{199187, 6.73015...|\n",
      "|    53|[{162436, 7.34231...|\n",
      "|    65|[{194434, 6.31207...|\n",
      "|    76|[{203086, 6.32695...|\n",
      "|    78|[{176729, 6.52199...|\n",
      "|    81|[{138580, 5.13599...|\n",
      "|    85|[{203086, 5.99154...|\n",
      "|   101|[{203086, 5.29009...|\n",
      "|   103|[{183947, 5.71310...|\n",
      "|   108|[{203086, 5.35401...|\n",
      "|   115|[{203086, 5.99874...|\n",
      "|   126|[{203086, 6.55799...|\n",
      "|   133|[{203086, 5.31141...|\n",
      "|   137|[{203086, 5.78383...|\n",
      "|   148|[{183947, 5.76353...|\n",
      "+------+--------------------+\n",
      "only showing top 20 rows\n",
      "\n"
     ]
    },
    {
     "name": "stderr",
     "output_type": "stream",
     "text": [
      "\r\n",
      "[Stage 229:>                                                        (0 + 1) / 1]\r\n",
      "\r\n",
      "                                                                                \r"
     ]
    }
   ],
   "source": [
    "model.recommendForAllUsers(3).show()"
   ]
  },
  {
   "cell_type": "code",
   "execution_count": 22,
   "id": "462f836a",
   "metadata": {},
   "outputs": [
    {
     "name": "stderr",
     "output_type": "stream",
     "text": [
      "[Stage 243:=====================================================>(99 + 1) / 100]\r"
     ]
    },
    {
     "name": "stdout",
     "output_type": "stream",
     "text": [
      "+-------+--------------------+\n",
      "|movieId|     recommendations|\n",
      "+-------+--------------------+\n",
      "|     12|[{87426, 5.213289...|\n",
      "|     26|[{105801, 5.13789...|\n",
      "|     27|[{87426, 5.402856...|\n",
      "|     28|[{105801, 5.43870...|\n",
      "|     31|[{87426, 5.215098...|\n",
      "|     34|[{128562, 5.50455...|\n",
      "|     44|[{87426, 5.173346...|\n",
      "|     53|[{27587, 5.178305...|\n",
      "|     65|[{87426, 5.271449...|\n",
      "|     76|[{87426, 5.031163...|\n",
      "|     78|[{105801, 4.71758...|\n",
      "|     81|[{156318, 4.90050...|\n",
      "|     85|[{54622, 4.984208...|\n",
      "|    101|[{105801, 5.01496...|\n",
      "|    103|[{26659, 5.147465...|\n",
      "|    108|[{100653, 5.13729...|\n",
      "|    115|[{105801, 5.78943...|\n",
      "|    126|[{87426, 4.734802...|\n",
      "|    133|[{100653, 4.22847...|\n",
      "|    137|[{100653, 4.94458...|\n",
      "+-------+--------------------+\n",
      "only showing top 20 rows\n",
      "\n"
     ]
    },
    {
     "name": "stderr",
     "output_type": "stream",
     "text": [
      "\r\n",
      "                                                                                \r"
     ]
    }
   ],
   "source": [
    "model.recommendForAllItems(3).show()"
   ]
  },
  {
   "cell_type": "code",
   "execution_count": 24,
   "id": "76546a84",
   "metadata": {},
   "outputs": [
    {
     "name": "stderr",
     "output_type": "stream",
     "text": [
      "\r\n",
      "[Stage 259:>                                                        (0 + 1) / 1]\r\n",
      "\r\n",
      "                                                                                \r"
     ]
    },
    {
     "name": "stdout",
     "output_type": "stream",
     "text": [
      "+------+\n",
      "|userID|\n",
      "+------+\n",
      "|    65|\n",
      "|    78|\n",
      "|    81|\n",
      "+------+\n",
      "\n"
     ]
    }
   ],
   "source": [
    "from pyspark.sql.types import IntegerType\n",
    "\n",
    "user_list = [65,78,81]\n",
    "users_df = spark.createDataFrame(user_list,IntegerType()).toDF('userID')\n",
    "\n",
    "users_df.show()"
   ]
  },
  {
   "cell_type": "code",
   "execution_count": 26,
   "id": "468e8ec6",
   "metadata": {},
   "outputs": [],
   "source": [
    "user_recs = model.recommendForUserSubset(users_df, 5)"
   ]
  },
  {
   "cell_type": "code",
   "execution_count": 27,
   "id": "97701647",
   "metadata": {},
   "outputs": [
    {
     "name": "stderr",
     "output_type": "stream",
     "text": [
      "                                                                                \r"
     ]
    }
   ],
   "source": [
    "movies_list = user_recs.collect()[0].recommendations"
   ]
  },
  {
   "cell_type": "code",
   "execution_count": 29,
   "id": "e8ec7b5a",
   "metadata": {},
   "outputs": [
    {
     "name": "stdout",
     "output_type": "stream",
     "text": [
      "+-------+-----------------+\n",
      "|movieId|           rating|\n",
      "+-------+-----------------+\n",
      "| 194434|6.312077522277832|\n",
      "| 185645|6.165622711181641|\n",
      "| 169606| 6.09890604019165|\n",
      "| 192261|5.982861518859863|\n",
      "| 126941|5.934837818145752|\n",
      "+-------+-----------------+\n",
      "\n"
     ]
    }
   ],
   "source": [
    "recs_df=spark.createDataFrame(movies_list)\n",
    "recs_df.show()"
   ]
  },
  {
   "cell_type": "code",
   "execution_count": 30,
   "id": "f0bae845",
   "metadata": {},
   "outputs": [
    {
     "name": "stderr",
     "output_type": "stream",
     "text": [
      "\r\n",
      "[Stage 362:>                                                        (0 + 1) / 1]\r\n",
      "\r\n",
      "                                                                                \r"
     ]
    }
   ],
   "source": [
    "movies_file = \"/Users/ihyeonmin/Desktop/study/data-engineering/01-spark/data/ml-25m/movies.csv\"\n",
    "movies_df = spark.read.csv(f\"file:///{movies_file}\",inferSchema=True,header=True)"
   ]
  },
  {
   "cell_type": "code",
   "execution_count": 31,
   "id": "b29e57d7",
   "metadata": {},
   "outputs": [
    {
     "name": "stdout",
     "output_type": "stream",
     "text": [
      "+-------+--------------------+--------------------+\n",
      "|movieId|               title|              genres|\n",
      "+-------+--------------------+--------------------+\n",
      "|      1|    Toy Story (1995)|Adventure|Animati...|\n",
      "|      2|      Jumanji (1995)|Adventure|Childre...|\n",
      "|      3|Grumpier Old Men ...|      Comedy|Romance|\n",
      "|      4|Waiting to Exhale...|Comedy|Drama|Romance|\n",
      "|      5|Father of the Bri...|              Comedy|\n",
      "|      6|         Heat (1995)|Action|Crime|Thri...|\n",
      "|      7|      Sabrina (1995)|      Comedy|Romance|\n",
      "|      8| Tom and Huck (1995)|  Adventure|Children|\n",
      "|      9| Sudden Death (1995)|              Action|\n",
      "|     10|    GoldenEye (1995)|Action|Adventure|...|\n",
      "|     11|American Presiden...|Comedy|Drama|Romance|\n",
      "|     12|Dracula: Dead and...|       Comedy|Horror|\n",
      "|     13|        Balto (1995)|Adventure|Animati...|\n",
      "|     14|        Nixon (1995)|               Drama|\n",
      "|     15|Cutthroat Island ...|Action|Adventure|...|\n",
      "|     16|       Casino (1995)|         Crime|Drama|\n",
      "|     17|Sense and Sensibi...|       Drama|Romance|\n",
      "|     18|   Four Rooms (1995)|              Comedy|\n",
      "|     19|Ace Ventura: When...|              Comedy|\n",
      "|     20|  Money Train (1995)|Action|Comedy|Cri...|\n",
      "+-------+--------------------+--------------------+\n",
      "only showing top 20 rows\n",
      "\n"
     ]
    }
   ],
   "source": [
    "movies_df.show()"
   ]
  },
  {
   "cell_type": "code",
   "execution_count": 32,
   "id": "db4144ab",
   "metadata": {},
   "outputs": [],
   "source": [
    "recs_df.createOrReplaceTempView(\"recommendations\")\n",
    "movies_df.createOrReplaceTempView(\"movies\")"
   ]
  },
  {
   "cell_type": "code",
   "execution_count": 35,
   "id": "31ec65f2",
   "metadata": {},
   "outputs": [
    {
     "name": "stdout",
     "output_type": "stream",
     "text": [
      "+-------+--------------------+------------------+-------+-----------------+\n",
      "|movieId|               title|            genres|movieId|           rating|\n",
      "+-------+--------------------+------------------+-------+-----------------+\n",
      "| 194434|   Adrenaline (1990)|(no genres listed)| 194434|6.312077522277832|\n",
      "| 185645|Stone Cold Steve ...|       Documentary| 185645|6.165622711181641|\n",
      "| 169606|Dara O'Briain Cro...|            Comedy| 169606| 6.09890604019165|\n",
      "| 192261|Don't Laugh at My...|      Comedy|Drama| 192261|5.982861518859863|\n",
      "| 126941|Joni's Promise (2...|            Comedy| 126941|5.934837818145752|\n",
      "+-------+--------------------+------------------+-------+-----------------+\n",
      "\n"
     ]
    }
   ],
   "source": [
    "query=\"\"\"\n",
    "SELECT\n",
    "    *\n",
    "FROM\n",
    "    movies JOIN recommendations\n",
    "    ON movies.movieId = recommendations.movieId\n",
    "ORDER BY\n",
    "    rating desc\n",
    "\"\"\"\n",
    "\n",
    "recommended_movies = spark.sql(query)\n",
    "recommended_movies.show()"
   ]
  },
  {
   "cell_type": "code",
   "execution_count": 36,
   "id": "f55180d6",
   "metadata": {},
   "outputs": [],
   "source": [
    "def get_recommendations(user_id,num_recs):\n",
    "    users_df = spark.createDataFrame([user_id],IntegerType()).toDF('userId')\n",
    "    user_recs_df = model.recommendForUserSubset(users_df,num_recs)\n",
    "    \n",
    "    recs_list = user_recs_df.collect()[0].recommendations\n",
    "    recs_df = spark.createDataFrame(recs_list)\n",
    "    recommended_movies = spark.sql(query)\n",
    "    return recommended_movies"
   ]
  },
  {
   "cell_type": "code",
   "execution_count": 37,
   "id": "6c480c61",
   "metadata": {},
   "outputs": [
    {
     "name": "stderr",
     "output_type": "stream",
     "text": [
      "                                                                                \r"
     ]
    }
   ],
   "source": [
    "recs = get_recommendations(456,10)"
   ]
  },
  {
   "cell_type": "code",
   "execution_count": 38,
   "id": "abe4a7fd",
   "metadata": {},
   "outputs": [
    {
     "data": {
      "text/html": [
       "<div>\n",
       "<style scoped>\n",
       "    .dataframe tbody tr th:only-of-type {\n",
       "        vertical-align: middle;\n",
       "    }\n",
       "\n",
       "    .dataframe tbody tr th {\n",
       "        vertical-align: top;\n",
       "    }\n",
       "\n",
       "    .dataframe thead th {\n",
       "        text-align: right;\n",
       "    }\n",
       "</style>\n",
       "<table border=\"1\" class=\"dataframe\">\n",
       "  <thead>\n",
       "    <tr style=\"text-align: right;\">\n",
       "      <th></th>\n",
       "      <th>movieId</th>\n",
       "      <th>title</th>\n",
       "      <th>genres</th>\n",
       "      <th>movieId</th>\n",
       "      <th>rating</th>\n",
       "    </tr>\n",
       "  </thead>\n",
       "  <tbody>\n",
       "    <tr>\n",
       "      <th>0</th>\n",
       "      <td>194434</td>\n",
       "      <td>Adrenaline (1990)</td>\n",
       "      <td>(no genres listed)</td>\n",
       "      <td>194434</td>\n",
       "      <td>6.312078</td>\n",
       "    </tr>\n",
       "    <tr>\n",
       "      <th>1</th>\n",
       "      <td>185645</td>\n",
       "      <td>Stone Cold Steve Austin: The Bottom Line on th...</td>\n",
       "      <td>Documentary</td>\n",
       "      <td>185645</td>\n",
       "      <td>6.165623</td>\n",
       "    </tr>\n",
       "    <tr>\n",
       "      <th>2</th>\n",
       "      <td>169606</td>\n",
       "      <td>Dara O'Briain Crowd Tickler (2015)</td>\n",
       "      <td>Comedy</td>\n",
       "      <td>169606</td>\n",
       "      <td>6.098906</td>\n",
       "    </tr>\n",
       "    <tr>\n",
       "      <th>3</th>\n",
       "      <td>192261</td>\n",
       "      <td>Don't Laugh at My Romance (2008)</td>\n",
       "      <td>Comedy|Drama</td>\n",
       "      <td>192261</td>\n",
       "      <td>5.982862</td>\n",
       "    </tr>\n",
       "    <tr>\n",
       "      <th>4</th>\n",
       "      <td>126941</td>\n",
       "      <td>Joni's Promise (2005)</td>\n",
       "      <td>Comedy</td>\n",
       "      <td>126941</td>\n",
       "      <td>5.934838</td>\n",
       "    </tr>\n",
       "  </tbody>\n",
       "</table>\n",
       "</div>"
      ],
      "text/plain": [
       "   movieId                                              title  \\\n",
       "0   194434                                  Adrenaline (1990)   \n",
       "1   185645  Stone Cold Steve Austin: The Bottom Line on th...   \n",
       "2   169606                 Dara O'Briain Crowd Tickler (2015)   \n",
       "3   192261                   Don't Laugh at My Romance (2008)   \n",
       "4   126941                              Joni's Promise (2005)   \n",
       "\n",
       "               genres  movieId    rating  \n",
       "0  (no genres listed)   194434  6.312078  \n",
       "1         Documentary   185645  6.165623  \n",
       "2              Comedy   169606  6.098906  \n",
       "3        Comedy|Drama   192261  5.982862  \n",
       "4              Comedy   126941  5.934838  "
      ]
     },
     "execution_count": 38,
     "metadata": {},
     "output_type": "execute_result"
    }
   ],
   "source": [
    "recs.toPandas()"
   ]
  },
  {
   "cell_type": "code",
   "execution_count": 39,
   "id": "dd211953",
   "metadata": {},
   "outputs": [],
   "source": [
    "spark.stop()"
   ]
  },
  {
   "cell_type": "code",
   "execution_count": null,
   "id": "832e0d2f",
   "metadata": {},
   "outputs": [],
   "source": []
  }
 ],
 "metadata": {
  "kernelspec": {
   "display_name": "Python 3 (ipykernel)",
   "language": "python",
   "name": "python3"
  },
  "language_info": {
   "codemirror_mode": {
    "name": "ipython",
    "version": 3
   },
   "file_extension": ".py",
   "mimetype": "text/x-python",
   "name": "python",
   "nbconvert_exporter": "python",
   "pygments_lexer": "ipython3",
   "version": "3.9.12"
  }
 },
 "nbformat": 4,
 "nbformat_minor": 5
}
